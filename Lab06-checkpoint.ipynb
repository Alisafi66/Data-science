{
 "cells": [
  {
   "cell_type": "markdown",
   "metadata": {
    "id": "izZfKnq06M23"
   },
   "source": [
    "# **Lab 6**"
   ]
  },
  {
   "cell_type": "markdown",
   "metadata": {
    "id": "LwUeTe7ld2iJ"
   },
   "source": [
    "## Exploratory Data Analysis (EDA)\n",
    "\n",
    "In this lab, you will learn how to explore the data further by statistical and correlation analysis. Many functions are available in Python (and other packages) to help you achieve this at ease. You will also learn how  how to explore data from ground-up. Of course, exploratory analysis also entails utilizing graphical representations to provide meaningful \"pictorial\" description of the data.\n",
    "\n",
    "> **Credit note:** A portion of this lab was adapted from [sanithps98's repo](https://github.com/sanithps98/Automobile-Dataset-Analysis) on data analysis."
   ]
  },
  {
   "cell_type": "code",
   "execution_count": 1,
   "metadata": {
    "executionInfo": {
     "elapsed": 306,
     "status": "ok",
     "timestamp": 1632059627468,
     "user": {
      "displayName": "Amy Lim Hui Lan",
      "photoUrl": "https://lh3.googleusercontent.com/a-/AOh14Ggtsnn2C_YqxLH5PrBrEapuXcc6-48wvIz_8wMw=s64",
      "userId": "05118199667727222459"
     },
     "user_tz": -480
    },
    "id": "rpCGcj-hd2iM"
   },
   "outputs": [],
   "source": [
    "import numpy as np\n",
    "import pandas as pd\n",
    "\n",
    "from IPython.display import display"
   ]
  },
  {
   "cell_type": "markdown",
   "metadata": {
    "id": "HkAtKGcQd2iV"
   },
   "source": [
    "To visualize data, let's load the relevant packages. We have two packages that we can use:"
   ]
  },
  {
   "cell_type": "code",
   "execution_count": 2,
   "metadata": {
    "executionInfo": {
     "elapsed": 1202,
     "status": "ok",
     "timestamp": 1632059632805,
     "user": {
      "displayName": "Amy Lim Hui Lan",
      "photoUrl": "https://lh3.googleusercontent.com/a-/AOh14Ggtsnn2C_YqxLH5PrBrEapuXcc6-48wvIz_8wMw=s64",
      "userId": "05118199667727222459"
     },
     "user_tz": -480
    },
    "id": "sx2tmc4dd2iW"
   },
   "outputs": [],
   "source": [
    "import matplotlib.pyplot as plt\n",
    "%matplotlib inline\n",
    "\n",
    "import seaborn as sns"
   ]
  },
  {
   "cell_type": "markdown",
   "metadata": {
    "id": "Jxj7SGOxd2ib"
   },
   "source": [
    "## Describing the Data\n",
    "\n",
    "We will be using the cleaned car data that we did in Lab 4."
   ]
  },
  {
   "cell_type": "code",
   "execution_count": 3,
   "metadata": {
    "id": "IFkwpSged2ic",
    "scrolled": true
   },
   "outputs": [
    {
     "data": {
      "text/html": [
       "<div>\n",
       "<style scoped>\n",
       "    .dataframe tbody tr th:only-of-type {\n",
       "        vertical-align: middle;\n",
       "    }\n",
       "\n",
       "    .dataframe tbody tr th {\n",
       "        vertical-align: top;\n",
       "    }\n",
       "\n",
       "    .dataframe thead th {\n",
       "        text-align: right;\n",
       "    }\n",
       "</style>\n",
       "<table border=\"1\" class=\"dataframe\">\n",
       "  <thead>\n",
       "    <tr style=\"text-align: right;\">\n",
       "      <th></th>\n",
       "      <th>symboling</th>\n",
       "      <th>normalized-losses</th>\n",
       "      <th>make</th>\n",
       "      <th>fuel-type</th>\n",
       "      <th>aspiration</th>\n",
       "      <th>num-of-doors</th>\n",
       "      <th>body-style</th>\n",
       "      <th>drive-wheels</th>\n",
       "      <th>engine-location</th>\n",
       "      <th>wheel-base</th>\n",
       "      <th>...</th>\n",
       "      <th>fuel-system</th>\n",
       "      <th>bore</th>\n",
       "      <th>stroke</th>\n",
       "      <th>compression-ratio</th>\n",
       "      <th>horsepower</th>\n",
       "      <th>peak-rpm</th>\n",
       "      <th>city-mpg</th>\n",
       "      <th>highway-mpg</th>\n",
       "      <th>price</th>\n",
       "      <th>horsepower-binned</th>\n",
       "    </tr>\n",
       "  </thead>\n",
       "  <tbody>\n",
       "    <tr>\n",
       "      <th>0</th>\n",
       "      <td>3</td>\n",
       "      <td>122</td>\n",
       "      <td>alfa-romero</td>\n",
       "      <td>gas</td>\n",
       "      <td>std</td>\n",
       "      <td>two</td>\n",
       "      <td>convertible</td>\n",
       "      <td>rwd</td>\n",
       "      <td>front</td>\n",
       "      <td>88.6</td>\n",
       "      <td>...</td>\n",
       "      <td>mpfi</td>\n",
       "      <td>3.47</td>\n",
       "      <td>2.68</td>\n",
       "      <td>9.0</td>\n",
       "      <td>111</td>\n",
       "      <td>5000.0</td>\n",
       "      <td>21</td>\n",
       "      <td>27</td>\n",
       "      <td>13495.0</td>\n",
       "      <td>Low</td>\n",
       "    </tr>\n",
       "    <tr>\n",
       "      <th>1</th>\n",
       "      <td>3</td>\n",
       "      <td>122</td>\n",
       "      <td>alfa-romero</td>\n",
       "      <td>gas</td>\n",
       "      <td>std</td>\n",
       "      <td>two</td>\n",
       "      <td>convertible</td>\n",
       "      <td>rwd</td>\n",
       "      <td>front</td>\n",
       "      <td>88.6</td>\n",
       "      <td>...</td>\n",
       "      <td>mpfi</td>\n",
       "      <td>3.47</td>\n",
       "      <td>2.68</td>\n",
       "      <td>9.0</td>\n",
       "      <td>111</td>\n",
       "      <td>5000.0</td>\n",
       "      <td>21</td>\n",
       "      <td>27</td>\n",
       "      <td>16500.0</td>\n",
       "      <td>Low</td>\n",
       "    </tr>\n",
       "    <tr>\n",
       "      <th>2</th>\n",
       "      <td>1</td>\n",
       "      <td>122</td>\n",
       "      <td>alfa-romero</td>\n",
       "      <td>gas</td>\n",
       "      <td>std</td>\n",
       "      <td>two</td>\n",
       "      <td>hatchback</td>\n",
       "      <td>rwd</td>\n",
       "      <td>front</td>\n",
       "      <td>94.5</td>\n",
       "      <td>...</td>\n",
       "      <td>mpfi</td>\n",
       "      <td>2.68</td>\n",
       "      <td>3.47</td>\n",
       "      <td>9.0</td>\n",
       "      <td>154</td>\n",
       "      <td>5000.0</td>\n",
       "      <td>19</td>\n",
       "      <td>26</td>\n",
       "      <td>16500.0</td>\n",
       "      <td>Medium</td>\n",
       "    </tr>\n",
       "    <tr>\n",
       "      <th>3</th>\n",
       "      <td>2</td>\n",
       "      <td>164</td>\n",
       "      <td>audi</td>\n",
       "      <td>gas</td>\n",
       "      <td>std</td>\n",
       "      <td>four</td>\n",
       "      <td>sedan</td>\n",
       "      <td>fwd</td>\n",
       "      <td>front</td>\n",
       "      <td>99.8</td>\n",
       "      <td>...</td>\n",
       "      <td>mpfi</td>\n",
       "      <td>3.19</td>\n",
       "      <td>3.40</td>\n",
       "      <td>10.0</td>\n",
       "      <td>102</td>\n",
       "      <td>5500.0</td>\n",
       "      <td>24</td>\n",
       "      <td>30</td>\n",
       "      <td>13950.0</td>\n",
       "      <td>Low</td>\n",
       "    </tr>\n",
       "    <tr>\n",
       "      <th>4</th>\n",
       "      <td>2</td>\n",
       "      <td>164</td>\n",
       "      <td>audi</td>\n",
       "      <td>gas</td>\n",
       "      <td>std</td>\n",
       "      <td>four</td>\n",
       "      <td>sedan</td>\n",
       "      <td>4wd</td>\n",
       "      <td>front</td>\n",
       "      <td>99.4</td>\n",
       "      <td>...</td>\n",
       "      <td>mpfi</td>\n",
       "      <td>3.19</td>\n",
       "      <td>3.40</td>\n",
       "      <td>8.0</td>\n",
       "      <td>115</td>\n",
       "      <td>5500.0</td>\n",
       "      <td>18</td>\n",
       "      <td>22</td>\n",
       "      <td>17450.0</td>\n",
       "      <td>Low</td>\n",
       "    </tr>\n",
       "  </tbody>\n",
       "</table>\n",
       "<p>5 rows × 27 columns</p>\n",
       "</div>"
      ],
      "text/plain": [
       "   symboling  normalized-losses         make fuel-type aspiration  \\\n",
       "0          3                122  alfa-romero       gas        std   \n",
       "1          3                122  alfa-romero       gas        std   \n",
       "2          1                122  alfa-romero       gas        std   \n",
       "3          2                164         audi       gas        std   \n",
       "4          2                164         audi       gas        std   \n",
       "\n",
       "  num-of-doors   body-style drive-wheels engine-location  wheel-base  ...  \\\n",
       "0          two  convertible          rwd           front        88.6  ...   \n",
       "1          two  convertible          rwd           front        88.6  ...   \n",
       "2          two    hatchback          rwd           front        94.5  ...   \n",
       "3         four        sedan          fwd           front        99.8  ...   \n",
       "4         four        sedan          4wd           front        99.4  ...   \n",
       "\n",
       "   fuel-system  bore  stroke  compression-ratio horsepower peak-rpm  city-mpg  \\\n",
       "0         mpfi  3.47    2.68                9.0        111   5000.0        21   \n",
       "1         mpfi  3.47    2.68                9.0        111   5000.0        21   \n",
       "2         mpfi  2.68    3.47                9.0        154   5000.0        19   \n",
       "3         mpfi  3.19    3.40               10.0        102   5500.0        24   \n",
       "4         mpfi  3.19    3.40                8.0        115   5500.0        18   \n",
       "\n",
       "  highway-mpg    price  horsepower-binned  \n",
       "0          27  13495.0                Low  \n",
       "1          27  16500.0                Low  \n",
       "2          26  16500.0             Medium  \n",
       "3          30  13950.0                Low  \n",
       "4          22  17450.0                Low  \n",
       "\n",
       "[5 rows x 27 columns]"
      ]
     },
     "execution_count": 3,
     "metadata": {},
     "output_type": "execute_result"
    }
   ],
   "source": [
    "df = pd.read_csv('car_data_CLEANED.csv', index_col=0)   # first column is used as index\n",
    "df.head()"
   ]
  },
  {
   "cell_type": "markdown",
   "metadata": {
    "id": "p1pCj36dd2ii"
   },
   "source": [
    "The most basic function that you can use to describe the data with summary statistics is to use `describe()`."
   ]
  },
  {
   "cell_type": "code",
   "execution_count": 4,
   "metadata": {
    "id": "BhK83uQId2ij"
   },
   "outputs": [
    {
     "data": {
      "text/html": [
       "<div>\n",
       "<style scoped>\n",
       "    .dataframe tbody tr th:only-of-type {\n",
       "        vertical-align: middle;\n",
       "    }\n",
       "\n",
       "    .dataframe tbody tr th {\n",
       "        vertical-align: top;\n",
       "    }\n",
       "\n",
       "    .dataframe thead th {\n",
       "        text-align: right;\n",
       "    }\n",
       "</style>\n",
       "<table border=\"1\" class=\"dataframe\">\n",
       "  <thead>\n",
       "    <tr style=\"text-align: right;\">\n",
       "      <th></th>\n",
       "      <th>symboling</th>\n",
       "      <th>normalized-losses</th>\n",
       "      <th>wheel-base</th>\n",
       "      <th>length</th>\n",
       "      <th>width</th>\n",
       "      <th>height</th>\n",
       "      <th>curb-weight</th>\n",
       "      <th>engine-size</th>\n",
       "      <th>bore</th>\n",
       "      <th>stroke</th>\n",
       "      <th>compression-ratio</th>\n",
       "      <th>horsepower</th>\n",
       "      <th>peak-rpm</th>\n",
       "      <th>city-mpg</th>\n",
       "      <th>highway-mpg</th>\n",
       "      <th>price</th>\n",
       "    </tr>\n",
       "  </thead>\n",
       "  <tbody>\n",
       "    <tr>\n",
       "      <th>count</th>\n",
       "      <td>201.000000</td>\n",
       "      <td>201.00000</td>\n",
       "      <td>201.000000</td>\n",
       "      <td>201.000000</td>\n",
       "      <td>201.000000</td>\n",
       "      <td>201.000000</td>\n",
       "      <td>201.000000</td>\n",
       "      <td>201.000000</td>\n",
       "      <td>201.000000</td>\n",
       "      <td>201.000000</td>\n",
       "      <td>201.000000</td>\n",
       "      <td>201.000000</td>\n",
       "      <td>201.000000</td>\n",
       "      <td>201.000000</td>\n",
       "      <td>201.000000</td>\n",
       "      <td>201.000000</td>\n",
       "    </tr>\n",
       "    <tr>\n",
       "      <th>mean</th>\n",
       "      <td>0.840796</td>\n",
       "      <td>122.00000</td>\n",
       "      <td>98.797015</td>\n",
       "      <td>0.837102</td>\n",
       "      <td>0.915126</td>\n",
       "      <td>0.899108</td>\n",
       "      <td>2555.666667</td>\n",
       "      <td>-3.053798</td>\n",
       "      <td>3.330692</td>\n",
       "      <td>3.256874</td>\n",
       "      <td>10.164279</td>\n",
       "      <td>103.402985</td>\n",
       "      <td>5117.665368</td>\n",
       "      <td>25.179104</td>\n",
       "      <td>30.686567</td>\n",
       "      <td>13207.129353</td>\n",
       "    </tr>\n",
       "    <tr>\n",
       "      <th>std</th>\n",
       "      <td>1.254802</td>\n",
       "      <td>31.99625</td>\n",
       "      <td>6.066366</td>\n",
       "      <td>0.059213</td>\n",
       "      <td>0.029187</td>\n",
       "      <td>0.040933</td>\n",
       "      <td>517.296727</td>\n",
       "      <td>0.024129</td>\n",
       "      <td>0.268072</td>\n",
       "      <td>0.316048</td>\n",
       "      <td>4.004965</td>\n",
       "      <td>37.365650</td>\n",
       "      <td>478.113805</td>\n",
       "      <td>6.423220</td>\n",
       "      <td>6.815150</td>\n",
       "      <td>7947.066342</td>\n",
       "    </tr>\n",
       "    <tr>\n",
       "      <th>min</th>\n",
       "      <td>-2.000000</td>\n",
       "      <td>65.00000</td>\n",
       "      <td>86.600000</td>\n",
       "      <td>0.678039</td>\n",
       "      <td>0.837500</td>\n",
       "      <td>0.799331</td>\n",
       "      <td>1488.000000</td>\n",
       "      <td>-3.092056</td>\n",
       "      <td>2.540000</td>\n",
       "      <td>2.070000</td>\n",
       "      <td>7.000000</td>\n",
       "      <td>48.000000</td>\n",
       "      <td>4150.000000</td>\n",
       "      <td>13.000000</td>\n",
       "      <td>16.000000</td>\n",
       "      <td>5118.000000</td>\n",
       "    </tr>\n",
       "    <tr>\n",
       "      <th>25%</th>\n",
       "      <td>0.000000</td>\n",
       "      <td>101.00000</td>\n",
       "      <td>94.500000</td>\n",
       "      <td>0.801538</td>\n",
       "      <td>0.890278</td>\n",
       "      <td>0.869565</td>\n",
       "      <td>2169.000000</td>\n",
       "      <td>-3.070568</td>\n",
       "      <td>3.150000</td>\n",
       "      <td>3.110000</td>\n",
       "      <td>8.600000</td>\n",
       "      <td>70.000000</td>\n",
       "      <td>4800.000000</td>\n",
       "      <td>19.000000</td>\n",
       "      <td>25.000000</td>\n",
       "      <td>7775.000000</td>\n",
       "    </tr>\n",
       "    <tr>\n",
       "      <th>50%</th>\n",
       "      <td>1.000000</td>\n",
       "      <td>122.00000</td>\n",
       "      <td>97.000000</td>\n",
       "      <td>0.832292</td>\n",
       "      <td>0.909722</td>\n",
       "      <td>0.904682</td>\n",
       "      <td>2414.000000</td>\n",
       "      <td>-3.057791</td>\n",
       "      <td>3.310000</td>\n",
       "      <td>3.290000</td>\n",
       "      <td>9.000000</td>\n",
       "      <td>95.000000</td>\n",
       "      <td>5125.369458</td>\n",
       "      <td>24.000000</td>\n",
       "      <td>30.000000</td>\n",
       "      <td>10295.000000</td>\n",
       "    </tr>\n",
       "    <tr>\n",
       "      <th>75%</th>\n",
       "      <td>2.000000</td>\n",
       "      <td>137.00000</td>\n",
       "      <td>102.400000</td>\n",
       "      <td>0.881788</td>\n",
       "      <td>0.925000</td>\n",
       "      <td>0.928094</td>\n",
       "      <td>2926.000000</td>\n",
       "      <td>-3.045594</td>\n",
       "      <td>3.580000</td>\n",
       "      <td>3.410000</td>\n",
       "      <td>9.400000</td>\n",
       "      <td>116.000000</td>\n",
       "      <td>5500.000000</td>\n",
       "      <td>30.000000</td>\n",
       "      <td>34.000000</td>\n",
       "      <td>16500.000000</td>\n",
       "    </tr>\n",
       "    <tr>\n",
       "      <th>max</th>\n",
       "      <td>3.000000</td>\n",
       "      <td>256.00000</td>\n",
       "      <td>120.900000</td>\n",
       "      <td>1.000000</td>\n",
       "      <td>1.000000</td>\n",
       "      <td>1.000000</td>\n",
       "      <td>4066.000000</td>\n",
       "      <td>-2.938151</td>\n",
       "      <td>3.940000</td>\n",
       "      <td>4.170000</td>\n",
       "      <td>23.000000</td>\n",
       "      <td>262.000000</td>\n",
       "      <td>6600.000000</td>\n",
       "      <td>49.000000</td>\n",
       "      <td>54.000000</td>\n",
       "      <td>45400.000000</td>\n",
       "    </tr>\n",
       "  </tbody>\n",
       "</table>\n",
       "</div>"
      ],
      "text/plain": [
       "        symboling  normalized-losses  wheel-base      length       width  \\\n",
       "count  201.000000          201.00000  201.000000  201.000000  201.000000   \n",
       "mean     0.840796          122.00000   98.797015    0.837102    0.915126   \n",
       "std      1.254802           31.99625    6.066366    0.059213    0.029187   \n",
       "min     -2.000000           65.00000   86.600000    0.678039    0.837500   \n",
       "25%      0.000000          101.00000   94.500000    0.801538    0.890278   \n",
       "50%      1.000000          122.00000   97.000000    0.832292    0.909722   \n",
       "75%      2.000000          137.00000  102.400000    0.881788    0.925000   \n",
       "max      3.000000          256.00000  120.900000    1.000000    1.000000   \n",
       "\n",
       "           height  curb-weight  engine-size        bore      stroke  \\\n",
       "count  201.000000   201.000000   201.000000  201.000000  201.000000   \n",
       "mean     0.899108  2555.666667    -3.053798    3.330692    3.256874   \n",
       "std      0.040933   517.296727     0.024129    0.268072    0.316048   \n",
       "min      0.799331  1488.000000    -3.092056    2.540000    2.070000   \n",
       "25%      0.869565  2169.000000    -3.070568    3.150000    3.110000   \n",
       "50%      0.904682  2414.000000    -3.057791    3.310000    3.290000   \n",
       "75%      0.928094  2926.000000    -3.045594    3.580000    3.410000   \n",
       "max      1.000000  4066.000000    -2.938151    3.940000    4.170000   \n",
       "\n",
       "       compression-ratio  horsepower     peak-rpm    city-mpg  highway-mpg  \\\n",
       "count         201.000000  201.000000   201.000000  201.000000   201.000000   \n",
       "mean           10.164279  103.402985  5117.665368   25.179104    30.686567   \n",
       "std             4.004965   37.365650   478.113805    6.423220     6.815150   \n",
       "min             7.000000   48.000000  4150.000000   13.000000    16.000000   \n",
       "25%             8.600000   70.000000  4800.000000   19.000000    25.000000   \n",
       "50%             9.000000   95.000000  5125.369458   24.000000    30.000000   \n",
       "75%             9.400000  116.000000  5500.000000   30.000000    34.000000   \n",
       "max            23.000000  262.000000  6600.000000   49.000000    54.000000   \n",
       "\n",
       "              price  \n",
       "count    201.000000  \n",
       "mean   13207.129353  \n",
       "std     7947.066342  \n",
       "min     5118.000000  \n",
       "25%     7775.000000  \n",
       "50%    10295.000000  \n",
       "75%    16500.000000  \n",
       "max    45400.000000  "
      ]
     },
     "execution_count": 4,
     "metadata": {},
     "output_type": "execute_result"
    }
   ],
   "source": [
    "df.describe()"
   ]
  },
  {
   "cell_type": "code",
   "execution_count": 5,
   "metadata": {
    "id": "OHvsPMrRd2ip"
   },
   "outputs": [
    {
     "data": {
      "text/plain": [
       "symboling              int64\n",
       "normalized-losses      int64\n",
       "make                  object\n",
       "fuel-type             object\n",
       "aspiration            object\n",
       "num-of-doors          object\n",
       "body-style            object\n",
       "drive-wheels          object\n",
       "engine-location       object\n",
       "wheel-base           float64\n",
       "length               float64\n",
       "width                float64\n",
       "height               float64\n",
       "curb-weight            int64\n",
       "engine-type           object\n",
       "num-of-cylinders      object\n",
       "engine-size          float64\n",
       "fuel-system           object\n",
       "bore                 float64\n",
       "stroke               float64\n",
       "compression-ratio    float64\n",
       "horsepower             int64\n",
       "peak-rpm             float64\n",
       "city-mpg               int64\n",
       "highway-mpg            int64\n",
       "price                float64\n",
       "horsepower-binned     object\n",
       "dtype: object"
      ]
     },
     "execution_count": 5,
     "metadata": {},
     "output_type": "execute_result"
    }
   ],
   "source": [
    "df.dtypes"
   ]
  },
  {
   "cell_type": "markdown",
   "metadata": {
    "id": "9dXMYWMvd2iu"
   },
   "source": [
    "Notice that all the attributes that are of `object` type (mainly strings, or other non-numerical types) are ignored when we use `describe()`.\n",
    "\n",
    "Interestingly, you can also \"describe\" the non-numerical data. This is how: Fix the \"include\" option to 'object' (the data type), and it now gives a set of relevant measures: **count** (how many values), **unique** (how many unique values), **top** (the one with the most values), **freq** (the count of the most frequent value). "
   ]
  },
  {
   "cell_type": "code",
   "execution_count": 6,
   "metadata": {
    "id": "z5CFjq7pd2iv"
   },
   "outputs": [
    {
     "data": {
      "text/html": [
       "<div>\n",
       "<style scoped>\n",
       "    .dataframe tbody tr th:only-of-type {\n",
       "        vertical-align: middle;\n",
       "    }\n",
       "\n",
       "    .dataframe tbody tr th {\n",
       "        vertical-align: top;\n",
       "    }\n",
       "\n",
       "    .dataframe thead th {\n",
       "        text-align: right;\n",
       "    }\n",
       "</style>\n",
       "<table border=\"1\" class=\"dataframe\">\n",
       "  <thead>\n",
       "    <tr style=\"text-align: right;\">\n",
       "      <th></th>\n",
       "      <th>make</th>\n",
       "      <th>fuel-type</th>\n",
       "      <th>aspiration</th>\n",
       "      <th>num-of-doors</th>\n",
       "      <th>body-style</th>\n",
       "      <th>drive-wheels</th>\n",
       "      <th>engine-location</th>\n",
       "      <th>engine-type</th>\n",
       "      <th>num-of-cylinders</th>\n",
       "      <th>fuel-system</th>\n",
       "      <th>horsepower-binned</th>\n",
       "    </tr>\n",
       "  </thead>\n",
       "  <tbody>\n",
       "    <tr>\n",
       "      <th>count</th>\n",
       "      <td>201</td>\n",
       "      <td>201</td>\n",
       "      <td>201</td>\n",
       "      <td>201</td>\n",
       "      <td>201</td>\n",
       "      <td>201</td>\n",
       "      <td>201</td>\n",
       "      <td>201</td>\n",
       "      <td>201</td>\n",
       "      <td>201</td>\n",
       "      <td>201</td>\n",
       "    </tr>\n",
       "    <tr>\n",
       "      <th>unique</th>\n",
       "      <td>22</td>\n",
       "      <td>2</td>\n",
       "      <td>2</td>\n",
       "      <td>2</td>\n",
       "      <td>5</td>\n",
       "      <td>3</td>\n",
       "      <td>2</td>\n",
       "      <td>6</td>\n",
       "      <td>7</td>\n",
       "      <td>8</td>\n",
       "      <td>3</td>\n",
       "    </tr>\n",
       "    <tr>\n",
       "      <th>top</th>\n",
       "      <td>toyota</td>\n",
       "      <td>gas</td>\n",
       "      <td>std</td>\n",
       "      <td>four</td>\n",
       "      <td>sedan</td>\n",
       "      <td>fwd</td>\n",
       "      <td>front</td>\n",
       "      <td>ohc</td>\n",
       "      <td>four</td>\n",
       "      <td>mpfi</td>\n",
       "      <td>Low</td>\n",
       "    </tr>\n",
       "    <tr>\n",
       "      <th>freq</th>\n",
       "      <td>32</td>\n",
       "      <td>181</td>\n",
       "      <td>165</td>\n",
       "      <td>115</td>\n",
       "      <td>94</td>\n",
       "      <td>118</td>\n",
       "      <td>198</td>\n",
       "      <td>145</td>\n",
       "      <td>157</td>\n",
       "      <td>92</td>\n",
       "      <td>153</td>\n",
       "    </tr>\n",
       "  </tbody>\n",
       "</table>\n",
       "</div>"
      ],
      "text/plain": [
       "          make fuel-type aspiration num-of-doors body-style drive-wheels  \\\n",
       "count      201       201        201          201        201          201   \n",
       "unique      22         2          2            2          5            3   \n",
       "top     toyota       gas        std         four      sedan          fwd   \n",
       "freq        32       181        165          115         94          118   \n",
       "\n",
       "       engine-location engine-type num-of-cylinders fuel-system  \\\n",
       "count              201         201              201         201   \n",
       "unique               2           6                7           8   \n",
       "top              front         ohc             four        mpfi   \n",
       "freq               198         145              157          92   \n",
       "\n",
       "       horsepower-binned  \n",
       "count                201  \n",
       "unique                 3  \n",
       "top                  Low  \n",
       "freq                 153  "
      ]
     },
     "execution_count": 6,
     "metadata": {},
     "output_type": "execute_result"
    }
   ],
   "source": [
    "df.describe(include=['object'])"
   ]
  },
  {
   "cell_type": "markdown",
   "metadata": {
    "id": "f_r3H9mud2i1"
   },
   "source": [
    "We can now see that most cars are of \"Low\" horsepower category (163 of them), and most cars are sedan type (96 of them).\n",
    "\n",
    "**Descriptive Question 1**: What are the average prices for each category of car body styles?\n",
    "\n",
    "To obtain the unique types of car body styles, use `unique()` on the column `body-style`:"
   ]
  },
  {
   "cell_type": "code",
   "execution_count": 7,
   "metadata": {
    "id": "x40Izlgcd2i2"
   },
   "outputs": [
    {
     "data": {
      "text/plain": [
       "array(['convertible', 'hatchback', 'sedan', 'wagon', 'hardtop'],\n",
       "      dtype=object)"
      ]
     },
     "execution_count": 7,
     "metadata": {},
     "output_type": "execute_result"
    }
   ],
   "source": [
    "df['body-style'].unique()"
   ]
  },
  {
   "cell_type": "markdown",
   "metadata": {
    "id": "KEGWnS7hd2i7"
   },
   "source": [
    "**AE1**: Find the average prices for each of these categories.\n",
    "\n",
    "*Recall: You could use* `groupby` *function here to group the data by the body styles, and have each group calculate its mean.*"
   ]
  },
  {
   "cell_type": "code",
   "execution_count": null,
   "metadata": {
    "id": "yCRMhTIfd2i8"
   },
   "outputs": [],
   "source": [
    "# write your code here\n",
    "average = \n"
   ]
  },
  {
   "cell_type": "markdown",
   "metadata": {
    "id": "_YgMXlI4d2jA"
   },
   "source": [
    "### Crosstabs / Pivot Tables\n",
    "\n",
    "Crosstabs and pivot tables are kind of similar at first glance. They allow us to analyze data that can be aggregated by more than a single attribute. Both retain data in tabular format but in a more summarized form. Generally, they are only different in terms of their functionalities in certain softwares (read [here](https://www.mtab.com/difference-crosstabs-pivot-tables/) for more information) where pivot tables are normally regarded as more dynamic (users can drag and drop and rearrange data on the spot) than crosstabs.\n",
    "\n",
    "If you are planning to perform grouping of data with multiple variables (say, grouping by drive type and body style), you might do something like this:"
   ]
  },
  {
   "cell_type": "code",
   "execution_count": null,
   "metadata": {
    "id": "dm87HSA5d2jB"
   },
   "outputs": [],
   "source": [
    "df_gp1 = df[['drive-wheels','body-style','price']]\n",
    "gp1 = df_gp1.groupby(['drive-wheels','body-style'],as_index=False).mean()\n",
    "gp1"
   ]
  },
  {
   "cell_type": "markdown",
   "metadata": {
    "id": "tUZu32zXd2jH"
   },
   "source": [
    "Basically, all possible combinations of the drive type and body style, have been aggregated by mean. It may be much easier to visualize if it is made into a pivot table instead:"
   ]
  },
  {
   "cell_type": "code",
   "execution_count": null,
   "metadata": {
    "id": "jETL_Oqfd2jI"
   },
   "outputs": [],
   "source": [
    "gp_pivot = gp1.pivot(index='drive-wheels',columns='body-style')\n",
    "gp_pivot"
   ]
  },
  {
   "cell_type": "markdown",
   "metadata": {
    "id": "nq_TUtA5d2jP"
   },
   "source": [
    "Often, we do not have data for some of the pivot cells (because that combination just didn't exist). We can fill these missing cells with the value 0, or you can be also satisfied with leaving it as NaN if no further processing is going to happen."
   ]
  },
  {
   "cell_type": "markdown",
   "metadata": {
    "id": "nt03w2UZd2jQ"
   },
   "source": [
    "### Dispersion\n",
    "\n",
    "**Exploratory Question 2**: What is the dispersion of the price of cars in this data? \n",
    "\n",
    "A boxplot is a good graphical representation to show dispersion, particularly for continuous numerical values such as prices."
   ]
  },
  {
   "cell_type": "code",
   "execution_count": null,
   "metadata": {
    "id": "xk3PUZwzd2jR",
    "scrolled": false
   },
   "outputs": [],
   "source": [
    "df_price = df[[\"price\"]]\n",
    "df_price"
   ]
  },
  {
   "cell_type": "markdown",
   "metadata": {
    "id": "_FLHH_Swd2jX"
   },
   "source": [
    "There are some rows with NaN. We should drop them."
   ]
  },
  {
   "cell_type": "code",
   "execution_count": null,
   "metadata": {
    "id": "WKWd2WH1d2jY"
   },
   "outputs": [],
   "source": [
    "df_price.dropna(inplace=True)\n",
    "df_price"
   ]
  },
  {
   "cell_type": "markdown",
   "metadata": {
    "id": "A9JDnMyCkjRR"
   },
   "source": [
    "We use Seaborn package's [`boxplot`](https://seaborn.pydata.org/generated/seaborn.boxplot.html). Check out the documentation to see other options for customization."
   ]
  },
  {
   "cell_type": "code",
   "execution_count": null,
   "metadata": {
    "id": "vWVET0jod2jc"
   },
   "outputs": [],
   "source": [
    "sns.boxplot(y=\"price\", width=0.15, data=df_price)    "
   ]
  },
  {
   "cell_type": "markdown",
   "metadata": {
    "id": "mIKBOJAxd2ji"
   },
   "source": [
    "Multiple boxplots can be shown together if we define more than one \"dimensions\" to it. Seaborn makes it really simple: you just need to define what is along the 'x' and 'y'."
   ]
  },
  {
   "cell_type": "code",
   "execution_count": null,
   "metadata": {
    "id": "Y7tgKHmRd2jj"
   },
   "outputs": [],
   "source": [
    "sns.boxplot(x=\"body-style\", y=\"price\", width=0.75, data=df)"
   ]
  },
  {
   "cell_type": "markdown",
   "metadata": {
    "id": "fHli_ddRd2jo"
   },
   "source": [
    "We see that the distributions of price between the different body-style categories have a significant overlap (especially hatchback, sedan and wagon styles), so we could probably \"guess\" that there is not that much correlation between these three attributes, hence the body-style attribute may not be a good predictor of price as well (if we intend to train a model using this attribute).\n",
    "\n",
    "But this is not a good way to look at correlation between attributes. The better way is to calculate correlation itself.\n",
    "\n",
    "### Correlation\n",
    "\n",
    "**Exploratory Question 3**: What are a few attributes that correlate the most with the car price?\n",
    "\n",
    "Pandas is really convenient. You can immediately compute the correlation between attributes by using the `corr()` function, without needing to worry about the NaN values interfering\n",
    "\n",
    "> Technical note: If you have NaN values you cannot calculate the correlation score. If you use Numpy's `corrcoef` function, you have to manually handle them)."
   ]
  },
  {
   "cell_type": "code",
   "execution_count": 16,
   "metadata": {
    "executionInfo": {
     "elapsed": 295,
     "status": "ok",
     "timestamp": 1632059816084,
     "user": {
      "displayName": "Amy Lim Hui Lan",
      "photoUrl": "https://lh3.googleusercontent.com/a-/AOh14Ggtsnn2C_YqxLH5PrBrEapuXcc6-48wvIz_8wMw=s64",
      "userId": "05118199667727222459"
     },
     "user_tz": -480
    },
    "id": "Nj6U8-pyd2jp"
   },
   "outputs": [],
   "source": [
    "df_esp = df[[\"engine-size\", \"price\"]]"
   ]
  },
  {
   "cell_type": "code",
   "execution_count": null,
   "metadata": {
    "id": "8znkKQG7d2jw"
   },
   "outputs": [],
   "source": [
    "df_esp.corr()"
   ]
  },
  {
   "cell_type": "markdown",
   "metadata": {
    "id": "6V6UhgKpd2j4"
   },
   "source": [
    "This is a matrix containing the correlation coefficients ([Pearson's](https://en.wikipedia.org/wiki/Pearson_correlation_coefficient) by default) between pairs of attributes. It is also symmetrical because order of attribute is not important when computing correlation (correlation between x and y is the same as correlation between y and x). \n",
    "\n",
    "Why do you think the diagonal values are 1?\n",
    "\n",
    "Do you think engine size correlates positively with price?"
   ]
  },
  {
   "cell_type": "markdown",
   "metadata": {
    "id": "UhCrKBXrd2j5"
   },
   "source": [
    "You can pass this matrix into Seaborn's heatmap function, which provides some colors and shading to give a graphical representation to correlation. "
   ]
  },
  {
   "cell_type": "code",
   "execution_count": 18,
   "metadata": {
    "executionInfo": {
     "elapsed": 306,
     "status": "ok",
     "timestamp": 1632059832404,
     "user": {
      "displayName": "Amy Lim Hui Lan",
      "photoUrl": "https://lh3.googleusercontent.com/a-/AOh14Ggtsnn2C_YqxLH5PrBrEapuXcc6-48wvIz_8wMw=s64",
      "userId": "05118199667727222459"
     },
     "user_tz": -480
    },
    "id": "wzifK4soPK6l"
   },
   "outputs": [],
   "source": [
    "?sns.heatmap"
   ]
  },
  {
   "cell_type": "code",
   "execution_count": null,
   "metadata": {
    "id": "e5zijfcDd2j6"
   },
   "outputs": [],
   "source": [
    "sns.heatmap(df_esp.corr(), cmap='cividis')   #cividis is a colormap setting. You can change it to other options, viridis, YlGnBu"
   ]
  },
  {
   "cell_type": "markdown",
   "metadata": {
    "id": "T76twpa0d2j9"
   },
   "source": [
    "Let's try for the entire dataframe (numerical data only):"
   ]
  },
  {
   "cell_type": "code",
   "execution_count": null,
   "metadata": {
    "id": "Bh-KjNjId2j-"
   },
   "outputs": [],
   "source": [
    "sns.heatmap(df.corr(), cmap='cividis')"
   ]
  },
  {
   "cell_type": "markdown",
   "metadata": {
    "id": "GL7N8u4ud2kC"
   },
   "source": [
    "Which of the following numerical attributes correlate strongly with car price?\n",
    "\n",
    "<br><br>\n",
    "\n",
    "These attributes are the ones that make good candidates as features for subsequent data mining or machine learning tasks. They are able to tell apart a car that has a high or low price."
   ]
  },
  {
   "cell_type": "markdown",
   "metadata": {
    "id": "r0vshJNId2kD"
   },
   "source": [
    "### Scatter Plot\n",
    "\n",
    "The correlation between two attributes can be better visualized in a scatter plot of data points. Here is Seaborn's [`scatterplot`](https://seaborn.pydata.org/generated/seaborn.scatterplot.html)."
   ]
  },
  {
   "cell_type": "code",
   "execution_count": null,
   "metadata": {
    "id": "_w3YDj3-d2kE"
   },
   "outputs": [],
   "source": [
    "sns.scatterplot(x=\"engine-size\", y=\"price\", data=df)"
   ]
  },
  {
   "cell_type": "markdown",
   "metadata": {
    "id": "4sfbLxFNd2kJ"
   },
   "source": [
    "Seaborn has another function [`regplot`](https://seaborn.pydata.org/generated/seaborn.regplot.html) which plots the scatter plot plus the fitted regression line. \n",
    "\n",
    "This line as one that characterises the distribution of the data in a linear way. In correlation terms, it gives us an idea whether the correlation is positive or negative, strong or weak, or there is no correlation between the attributes."
   ]
  },
  {
   "cell_type": "code",
   "execution_count": null,
   "metadata": {
    "id": "ny82q0nEd2kJ"
   },
   "outputs": [],
   "source": [
    "sns.regplot(x=\"engine-size\", y=\"price\", data=df)\n",
    "plt.ylim(0,)"
   ]
  },
  {
   "cell_type": "markdown",
   "metadata": {
    "id": "GNaLHkY7d2kN"
   },
   "source": [
    "As the size of engine goes up, the price seems to goes up as well: this indicates a positive direct correlation between these two variables. The regression line is almost a perfect diagonal line, which means that the correlation between these two attributes is pretty strong. In predictive modeling, we can also think of this as, if we have information of a car's engine size, we are likely to be able to predict (regress) the price quite well. \n",
    "<br><br>\n",
    "\n",
    "**AE2**: Visualize the scatter plots of several other variables listed below, versus the price.\n",
    "* highway-mpg\n",
    "* peak-rpm\n",
    "* stroke\n",
    "\n",
    "Analyse the scatter plots and also determine their correlation scores to see if they match your analysis: "
   ]
  },
  {
   "cell_type": "code",
   "execution_count": null,
   "metadata": {
    "id": "nBgkCgEnd2kO"
   },
   "outputs": [],
   "source": [
    "# write your code here\n",
    "sns.scatterplot(x=\"highway-mpg\", y=\"price\", data=df)\n",
    "df_sc = df[[\"highway-mpg\", \"price\"]]\n",
    "\n",
    "df_sc.corr()\n",
    "\n"
   ]
  },
  {
   "cell_type": "markdown",
   "metadata": {
    "id": "8KkOF45vd2kU"
   },
   "source": [
    "[Matplotlib](https://matplotlib.org/) package will be explored in more detail when we come to Data Visualization topic later. For now, Seaborn seems to be quite straightforward and easy to use but you may not be able to have fine control over how the plot comes out. (Note: Actually you can, but you need some knowledge on how to manipulate plots with matplotlib. Seaborn has matplotlib running beneath.)"
   ]
  }
 ],
 "metadata": {
  "colab": {
   "collapsed_sections": [],
   "name": "Lab06.ipynb",
   "provenance": []
  },
  "kernelspec": {
   "display_name": "Python 3 (ipykernel)",
   "language": "python",
   "name": "python3"
  },
  "language_info": {
   "codemirror_mode": {
    "name": "ipython",
    "version": 3
   },
   "file_extension": ".py",
   "mimetype": "text/x-python",
   "name": "python",
   "nbconvert_exporter": "python",
   "pygments_lexer": "ipython3",
   "version": "3.9.13"
  }
 },
 "nbformat": 4,
 "nbformat_minor": 1
}
