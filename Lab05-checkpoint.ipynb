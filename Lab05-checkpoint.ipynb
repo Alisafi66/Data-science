{
 "cells": [
  {
   "cell_type": "markdown",
   "metadata": {
    "id": "2NNPA2qf-pmE"
   },
   "source": [
    "# **Lab 5**"
   ]
  },
  {
   "cell_type": "markdown",
   "metadata": {
    "id": "VhoygAqx-az7"
   },
   "source": [
    "## Exploring Data\n",
    "\n",
    "In this lab, you will learn how to explore data from ground-up. \n",
    "\n",
    "> **Credit note:** A portion of this lab was adapted from [UC Berkeley's Principles and Techniques of Data Science (DS 100)](https://www.textbook.ds100.org/)."
   ]
  },
  {
   "cell_type": "code",
   "execution_count": 1,
   "metadata": {
    "id": "Kn0Jl2Qh-az_"
   },
   "outputs": [],
   "source": [
    "import numpy as np\n",
    "import pandas as pd\n",
    "import matplotlib.pyplot as plt\n",
    "%matplotlib inline"
   ]
  },
  {
   "cell_type": "markdown",
   "metadata": {
    "id": "yX98LQQE-a0H"
   },
   "source": [
    "<a id=\"sectionI\"></a>\n",
    "## I. Creating a cleaning pipeline\n",
    "\n",
    "We will be using the Berkeley Police Department's publicly available dataset to show how to create a cleaning pipeline. \n",
    "\n",
    "**What do the data contain?** Have a look at the [website](https://data.cityofberkeley.info/Public-Safety/Berkeley-PD-Calls-for-Service/k2nh-s5h5) where the dataset was obtained. It says \"Calls for service (not criminal reports) within last 180 days.\" So, it contains very recent data (last 180 days), of calls to the police department for non-criminal problems.\n",
    "\n",
    "**What is the structure of the data?** The data file is a CSV file. Get it uploaded to Colab (or you can choose to mount your Drive). It should be a comma-separated file, although sometimes it is difficult to know if the file has been formatted properly. `read_csv()` can be used to read the file and if it returned errors, then we have to dig deeper and manually resolve the formatting issues."
   ]
  },
  {
   "cell_type": "code",
   "execution_count": 2,
   "metadata": {
    "id": "UhGbCt23-a0I",
    "scrolled": true
   },
   "outputs": [],
   "source": [
    "calls = pd.read_csv('Berkeley_PD_-_Calls_for_Service.csv')"
   ]
  },
  {
   "cell_type": "code",
   "execution_count": 3,
   "metadata": {
    "id": "3rr-u7tZ-a0Q",
    "scrolled": true
   },
   "outputs": [
    {
     "data": {
      "text/html": [
       "<div>\n",
       "<style scoped>\n",
       "    .dataframe tbody tr th:only-of-type {\n",
       "        vertical-align: middle;\n",
       "    }\n",
       "\n",
       "    .dataframe tbody tr th {\n",
       "        vertical-align: top;\n",
       "    }\n",
       "\n",
       "    .dataframe thead th {\n",
       "        text-align: right;\n",
       "    }\n",
       "</style>\n",
       "<table border=\"1\" class=\"dataframe\">\n",
       "  <thead>\n",
       "    <tr style=\"text-align: right;\">\n",
       "      <th></th>\n",
       "      <th>CASENO</th>\n",
       "      <th>OFFENSE</th>\n",
       "      <th>EVENTDT</th>\n",
       "      <th>EVENTTM</th>\n",
       "      <th>CVLEGEND</th>\n",
       "      <th>CVDOW</th>\n",
       "      <th>InDbDate</th>\n",
       "      <th>Block_Location</th>\n",
       "      <th>BLKADDR</th>\n",
       "      <th>City</th>\n",
       "      <th>State</th>\n",
       "    </tr>\n",
       "  </thead>\n",
       "  <tbody>\n",
       "    <tr>\n",
       "      <th>0</th>\n",
       "      <td>19050601</td>\n",
       "      <td>ASSAULT/BATTERY MISD.</td>\n",
       "      <td>09/06/2019 12:00:00 AM</td>\n",
       "      <td>15:15</td>\n",
       "      <td>ASSAULT</td>\n",
       "      <td>5</td>\n",
       "      <td>12/21/2019 07:00:12 AM</td>\n",
       "      <td>HILLEGASS AVENUE &amp;DERBY ST\\nBerkeley, CA</td>\n",
       "      <td>HILLEGASS AVENUE &amp;DERBY ST</td>\n",
       "      <td>Berkeley</td>\n",
       "      <td>CA</td>\n",
       "    </tr>\n",
       "    <tr>\n",
       "      <th>1</th>\n",
       "      <td>19068295</td>\n",
       "      <td>FRAUD/FORGERY</td>\n",
       "      <td>11/26/2019 12:00:00 AM</td>\n",
       "      <td>12:00</td>\n",
       "      <td>FRAUD</td>\n",
       "      <td>2</td>\n",
       "      <td>12/21/2019 07:00:10 AM</td>\n",
       "      <td>SHATTUCK AV &amp; TELEGRAPH AV\\nBerkeley, CA</td>\n",
       "      <td>SHATTUCK AV &amp; TELEGRAPH AV</td>\n",
       "      <td>Berkeley</td>\n",
       "      <td>CA</td>\n",
       "    </tr>\n",
       "    <tr>\n",
       "      <th>2</th>\n",
       "      <td>19092646</td>\n",
       "      <td>IDENTITY THEFT</td>\n",
       "      <td>10/14/2019 12:00:00 AM</td>\n",
       "      <td>12:25</td>\n",
       "      <td>FRAUD</td>\n",
       "      <td>1</td>\n",
       "      <td>12/21/2019 07:00:10 AM</td>\n",
       "      <td>RUSSELL STREET ST\\nBerkeley, CA</td>\n",
       "      <td>RUSSELL STREET ST</td>\n",
       "      <td>Berkeley</td>\n",
       "      <td>CA</td>\n",
       "    </tr>\n",
       "    <tr>\n",
       "      <th>3</th>\n",
       "      <td>19042662</td>\n",
       "      <td>VEHICLE STOLEN</td>\n",
       "      <td>08/03/2019 12:00:00 AM</td>\n",
       "      <td>19:00</td>\n",
       "      <td>MOTOR VEHICLE THEFT</td>\n",
       "      <td>6</td>\n",
       "      <td>12/21/2019 07:00:11 AM</td>\n",
       "      <td>0 B DOCK\\nBerkeley, CA</td>\n",
       "      <td>0 B DOCK</td>\n",
       "      <td>Berkeley</td>\n",
       "      <td>CA</td>\n",
       "    </tr>\n",
       "    <tr>\n",
       "      <th>4</th>\n",
       "      <td>19049612</td>\n",
       "      <td>THEFT FROM AUTO</td>\n",
       "      <td>09/04/2019 12:00:00 AM</td>\n",
       "      <td>08:00</td>\n",
       "      <td>LARCENY - FROM VEHICLE</td>\n",
       "      <td>3</td>\n",
       "      <td>12/21/2019 07:00:12 AM</td>\n",
       "      <td>700 FLORIDA AVE\\nBerkeley, CA</td>\n",
       "      <td>700 FLORIDA AVE</td>\n",
       "      <td>Berkeley</td>\n",
       "      <td>CA</td>\n",
       "    </tr>\n",
       "  </tbody>\n",
       "</table>\n",
       "</div>"
      ],
      "text/plain": [
       "     CASENO                OFFENSE                 EVENTDT EVENTTM  \\\n",
       "0  19050601  ASSAULT/BATTERY MISD.  09/06/2019 12:00:00 AM   15:15   \n",
       "1  19068295          FRAUD/FORGERY  11/26/2019 12:00:00 AM   12:00   \n",
       "2  19092646         IDENTITY THEFT  10/14/2019 12:00:00 AM   12:25   \n",
       "3  19042662         VEHICLE STOLEN  08/03/2019 12:00:00 AM   19:00   \n",
       "4  19049612        THEFT FROM AUTO  09/04/2019 12:00:00 AM   08:00   \n",
       "\n",
       "                 CVLEGEND  CVDOW                InDbDate  \\\n",
       "0                 ASSAULT      5  12/21/2019 07:00:12 AM   \n",
       "1                   FRAUD      2  12/21/2019 07:00:10 AM   \n",
       "2                   FRAUD      1  12/21/2019 07:00:10 AM   \n",
       "3     MOTOR VEHICLE THEFT      6  12/21/2019 07:00:11 AM   \n",
       "4  LARCENY - FROM VEHICLE      3  12/21/2019 07:00:12 AM   \n",
       "\n",
       "                             Block_Location                     BLKADDR  \\\n",
       "0  HILLEGASS AVENUE &DERBY ST\\nBerkeley, CA  HILLEGASS AVENUE &DERBY ST   \n",
       "1  SHATTUCK AV & TELEGRAPH AV\\nBerkeley, CA  SHATTUCK AV & TELEGRAPH AV   \n",
       "2           RUSSELL STREET ST\\nBerkeley, CA           RUSSELL STREET ST   \n",
       "3                    0 B DOCK\\nBerkeley, CA                    0 B DOCK   \n",
       "4             700 FLORIDA AVE\\nBerkeley, CA             700 FLORIDA AVE   \n",
       "\n",
       "       City State  \n",
       "0  Berkeley    CA  \n",
       "1  Berkeley    CA  \n",
       "2  Berkeley    CA  \n",
       "3  Berkeley    CA  \n",
       "4  Berkeley    CA  "
      ]
     },
     "execution_count": 3,
     "metadata": {},
     "output_type": "execute_result"
    }
   ],
   "source": [
    "calls.head()"
   ]
  },
  {
   "cell_type": "markdown",
   "metadata": {
    "id": "ULFMwbip-a0Y"
   },
   "source": [
    "Based on the output above, the resulting dataframe looks OK and well-formed since we have properly named columns and the data seems to be intact.\n",
    "\n",
    "**What are the attributes of this data?** Let's examine what the [website](https://data.cityofberkeley.info/Public-Safety/Berkeley-PD-Calls-for-Service/k2nh-s5h5) says about it.\n",
    "\n",
    "| **Column** | **Description** | **Type**   |\n",
    "|------:|-----------:|--------|\n",
    "| CASENO | Case Number | Number |\n",
    "| OFFENSE | Offense Type | Plain Text |\n",
    "| EVENTDT | Date Event Occurred | Date & Time |\n",
    "| EVENTTM | Time Event Occurred | Plain Text |\n",
    "| CVLEGEND | Description of Event | Plain Text |\n",
    "| CVDOW | Day of Week Event Occurred | Number |\n",
    "| InDbDate | Date dataset was updated in the portal | Date & Time |\n",
    "| Block_Location | Block level address of event | Location |\n",
    "| BLKADDR | | Plain Text |\n",
    "| City | | Plain Text |\n",
    "| State | | Plain Text |"
   ]
  },
  {
   "cell_type": "markdown",
   "metadata": {
    "id": "aSJZQ3g1-a0a"
   },
   "source": [
    "### Check on missing data\n",
    "\n",
    "The first thing to do is to check for missing data. However, before starting data analysis, we must check the following questions:\n",
    "\n",
    "**Are there any missing values?** Do a simple check with pandas."
   ]
  },
  {
   "cell_type": "code",
   "execution_count": 4,
   "metadata": {
    "id": "r8EtxlZL-a0b"
   },
   "outputs": [
    {
     "data": {
      "text/html": [
       "<div>\n",
       "<style scoped>\n",
       "    .dataframe tbody tr th:only-of-type {\n",
       "        vertical-align: middle;\n",
       "    }\n",
       "\n",
       "    .dataframe tbody tr th {\n",
       "        vertical-align: top;\n",
       "    }\n",
       "\n",
       "    .dataframe thead th {\n",
       "        text-align: right;\n",
       "    }\n",
       "</style>\n",
       "<table border=\"1\" class=\"dataframe\">\n",
       "  <thead>\n",
       "    <tr style=\"text-align: right;\">\n",
       "      <th></th>\n",
       "      <th>CASENO</th>\n",
       "      <th>OFFENSE</th>\n",
       "      <th>EVENTDT</th>\n",
       "      <th>EVENTTM</th>\n",
       "      <th>CVLEGEND</th>\n",
       "      <th>CVDOW</th>\n",
       "      <th>InDbDate</th>\n",
       "      <th>Block_Location</th>\n",
       "      <th>BLKADDR</th>\n",
       "      <th>City</th>\n",
       "      <th>State</th>\n",
       "    </tr>\n",
       "  </thead>\n",
       "  <tbody>\n",
       "    <tr>\n",
       "      <th>10</th>\n",
       "      <td>19092045</td>\n",
       "      <td>BURGLARY AUTO</td>\n",
       "      <td>09/24/2019 12:00:00 AM</td>\n",
       "      <td>21:00</td>\n",
       "      <td>BURGLARY - VEHICLE</td>\n",
       "      <td>2</td>\n",
       "      <td>12/21/2019 07:00:08 AM</td>\n",
       "      <td>Berkeley, CA\\n(37.869058, -122.270455)</td>\n",
       "      <td>NaN</td>\n",
       "      <td>Berkeley</td>\n",
       "      <td>CA</td>\n",
       "    </tr>\n",
       "    <tr>\n",
       "      <th>58</th>\n",
       "      <td>19050808</td>\n",
       "      <td>BURGLARY AUTO</td>\n",
       "      <td>09/09/2019 12:00:00 AM</td>\n",
       "      <td>17:00</td>\n",
       "      <td>BURGLARY - VEHICLE</td>\n",
       "      <td>1</td>\n",
       "      <td>12/21/2019 07:00:12 AM</td>\n",
       "      <td>Berkeley, CA\\n(37.869058, -122.270455)</td>\n",
       "      <td>NaN</td>\n",
       "      <td>Berkeley</td>\n",
       "      <td>CA</td>\n",
       "    </tr>\n",
       "    <tr>\n",
       "      <th>318</th>\n",
       "      <td>19092284</td>\n",
       "      <td>BURGLARY AUTO</td>\n",
       "      <td>10/19/2019 12:00:00 AM</td>\n",
       "      <td>02:00</td>\n",
       "      <td>BURGLARY - VEHICLE</td>\n",
       "      <td>6</td>\n",
       "      <td>12/21/2019 07:00:09 AM</td>\n",
       "      <td>Berkeley, CA\\n(37.869058, -122.270455)</td>\n",
       "      <td>NaN</td>\n",
       "      <td>Berkeley</td>\n",
       "      <td>CA</td>\n",
       "    </tr>\n",
       "    <tr>\n",
       "      <th>750</th>\n",
       "      <td>19061144</td>\n",
       "      <td>VEHICLE STOLEN</td>\n",
       "      <td>10/25/2019 12:00:00 AM</td>\n",
       "      <td>19:00</td>\n",
       "      <td>MOTOR VEHICLE THEFT</td>\n",
       "      <td>5</td>\n",
       "      <td>12/21/2019 07:00:09 AM</td>\n",
       "      <td>Berkeley, CA\\n(37.869058, -122.270455)</td>\n",
       "      <td>NaN</td>\n",
       "      <td>Berkeley</td>\n",
       "      <td>CA</td>\n",
       "    </tr>\n",
       "    <tr>\n",
       "      <th>770</th>\n",
       "      <td>19043768</td>\n",
       "      <td>FRAUD/FORGERY</td>\n",
       "      <td>08/08/2019 12:00:00 AM</td>\n",
       "      <td>17:00</td>\n",
       "      <td>FRAUD</td>\n",
       "      <td>4</td>\n",
       "      <td>12/21/2019 07:00:11 AM</td>\n",
       "      <td>Berkeley, CA\\n(37.869058, -122.270455)</td>\n",
       "      <td>NaN</td>\n",
       "      <td>Berkeley</td>\n",
       "      <td>CA</td>\n",
       "    </tr>\n",
       "    <tr>\n",
       "      <th>1056</th>\n",
       "      <td>19067870</td>\n",
       "      <td>BURGLARY RESIDENTIAL</td>\n",
       "      <td>11/29/2019 12:00:00 AM</td>\n",
       "      <td>21:40</td>\n",
       "      <td>BURGLARY - RESIDENTIAL</td>\n",
       "      <td>5</td>\n",
       "      <td>12/21/2019 07:00:10 AM</td>\n",
       "      <td>Berkeley, CA\\n(37.869058, -122.270455)</td>\n",
       "      <td>NaN</td>\n",
       "      <td>Berkeley</td>\n",
       "      <td>CA</td>\n",
       "    </tr>\n",
       "    <tr>\n",
       "      <th>1173</th>\n",
       "      <td>19051242</td>\n",
       "      <td>BURGLARY COMMERCIAL</td>\n",
       "      <td>09/11/2019 12:00:00 AM</td>\n",
       "      <td>23:24</td>\n",
       "      <td>BURGLARY - COMMERCIAL</td>\n",
       "      <td>3</td>\n",
       "      <td>12/21/2019 07:00:12 AM</td>\n",
       "      <td>Berkeley, CA\\n(37.869058, -122.270455)</td>\n",
       "      <td>NaN</td>\n",
       "      <td>Berkeley</td>\n",
       "      <td>CA</td>\n",
       "    </tr>\n",
       "    <tr>\n",
       "      <th>1329</th>\n",
       "      <td>19053006</td>\n",
       "      <td>VEHICLE STOLEN</td>\n",
       "      <td>09/19/2019 12:00:00 AM</td>\n",
       "      <td>17:00</td>\n",
       "      <td>MOTOR VEHICLE THEFT</td>\n",
       "      <td>4</td>\n",
       "      <td>12/21/2019 07:00:12 AM</td>\n",
       "      <td>Berkeley, CA\\n(37.869058, -122.270455)</td>\n",
       "      <td>NaN</td>\n",
       "      <td>Berkeley</td>\n",
       "      <td>CA</td>\n",
       "    </tr>\n",
       "    <tr>\n",
       "      <th>1354</th>\n",
       "      <td>19067030</td>\n",
       "      <td>IDENTITY THEFT</td>\n",
       "      <td>07/16/2019 12:00:00 AM</td>\n",
       "      <td>07:17</td>\n",
       "      <td>FRAUD</td>\n",
       "      <td>2</td>\n",
       "      <td>12/21/2019 07:00:10 AM</td>\n",
       "      <td>Berkeley, CA\\n(37.869058, -122.270455)</td>\n",
       "      <td>NaN</td>\n",
       "      <td>Berkeley</td>\n",
       "      <td>CA</td>\n",
       "    </tr>\n",
       "    <tr>\n",
       "      <th>1514</th>\n",
       "      <td>19063874</td>\n",
       "      <td>THEFT FROM AUTO</td>\n",
       "      <td>11/06/2019 12:00:00 AM</td>\n",
       "      <td>21:00</td>\n",
       "      <td>LARCENY - FROM VEHICLE</td>\n",
       "      <td>3</td>\n",
       "      <td>12/21/2019 07:00:09 AM</td>\n",
       "      <td>Berkeley, CA\\n(37.869058, -122.270455)</td>\n",
       "      <td>NaN</td>\n",
       "      <td>Berkeley</td>\n",
       "      <td>CA</td>\n",
       "    </tr>\n",
       "    <tr>\n",
       "      <th>1662</th>\n",
       "      <td>19092109</td>\n",
       "      <td>IDENTITY THEFT</td>\n",
       "      <td>10/01/2019 12:00:00 AM</td>\n",
       "      <td>15:55</td>\n",
       "      <td>FRAUD</td>\n",
       "      <td>2</td>\n",
       "      <td>12/21/2019 07:00:08 AM</td>\n",
       "      <td>Berkeley, CA\\n(37.869058, -122.270455)</td>\n",
       "      <td>NaN</td>\n",
       "      <td>Berkeley</td>\n",
       "      <td>CA</td>\n",
       "    </tr>\n",
       "    <tr>\n",
       "      <th>1663</th>\n",
       "      <td>19045858</td>\n",
       "      <td>BURGLARY COMMERCIAL</td>\n",
       "      <td>08/17/2019 12:00:00 AM</td>\n",
       "      <td>15:30</td>\n",
       "      <td>BURGLARY - COMMERCIAL</td>\n",
       "      <td>6</td>\n",
       "      <td>12/21/2019 07:00:12 AM</td>\n",
       "      <td>Berkeley, CA\\n(37.869058, -122.270455)</td>\n",
       "      <td>NaN</td>\n",
       "      <td>Berkeley</td>\n",
       "      <td>CA</td>\n",
       "    </tr>\n",
       "    <tr>\n",
       "      <th>1717</th>\n",
       "      <td>19091699</td>\n",
       "      <td>VANDALISM</td>\n",
       "      <td>08/15/2019 12:00:00 AM</td>\n",
       "      <td>23:30</td>\n",
       "      <td>VANDALISM</td>\n",
       "      <td>4</td>\n",
       "      <td>12/21/2019 07:00:12 AM</td>\n",
       "      <td>Berkeley, CA\\n(37.869058, -122.270455)</td>\n",
       "      <td>NaN</td>\n",
       "      <td>Berkeley</td>\n",
       "      <td>CA</td>\n",
       "    </tr>\n",
       "    <tr>\n",
       "      <th>1902</th>\n",
       "      <td>19036463</td>\n",
       "      <td>VANDALISM</td>\n",
       "      <td>07/04/2019 12:00:00 AM</td>\n",
       "      <td>18:15</td>\n",
       "      <td>VANDALISM</td>\n",
       "      <td>4</td>\n",
       "      <td>12/21/2019 07:00:11 AM</td>\n",
       "      <td>Berkeley, CA\\n(37.869058, -122.270455)</td>\n",
       "      <td>NaN</td>\n",
       "      <td>Berkeley</td>\n",
       "      <td>CA</td>\n",
       "    </tr>\n",
       "    <tr>\n",
       "      <th>1991</th>\n",
       "      <td>19066725</td>\n",
       "      <td>DISTURBANCE</td>\n",
       "      <td>11/23/2019 12:00:00 AM</td>\n",
       "      <td>15:41</td>\n",
       "      <td>DISORDERLY CONDUCT</td>\n",
       "      <td>6</td>\n",
       "      <td>12/21/2019 07:00:10 AM</td>\n",
       "      <td>Berkeley, CA\\n(37.869058, -122.270455)</td>\n",
       "      <td>NaN</td>\n",
       "      <td>Berkeley</td>\n",
       "      <td>CA</td>\n",
       "    </tr>\n",
       "    <tr>\n",
       "      <th>2101</th>\n",
       "      <td>19092328</td>\n",
       "      <td>BURGLARY AUTO</td>\n",
       "      <td>10/24/2019 12:00:00 AM</td>\n",
       "      <td>02:50</td>\n",
       "      <td>BURGLARY - VEHICLE</td>\n",
       "      <td>4</td>\n",
       "      <td>12/21/2019 07:00:09 AM</td>\n",
       "      <td>Berkeley, CA\\n(37.869058, -122.270455)</td>\n",
       "      <td>NaN</td>\n",
       "      <td>Berkeley</td>\n",
       "      <td>CA</td>\n",
       "    </tr>\n",
       "    <tr>\n",
       "      <th>2150</th>\n",
       "      <td>19091405</td>\n",
       "      <td>THEFT FROM AUTO</td>\n",
       "      <td>07/15/2019 12:00:00 AM</td>\n",
       "      <td>22:00</td>\n",
       "      <td>LARCENY - FROM VEHICLE</td>\n",
       "      <td>1</td>\n",
       "      <td>12/21/2019 07:00:11 AM</td>\n",
       "      <td>Berkeley, CA\\n(37.869058, -122.270455)</td>\n",
       "      <td>NaN</td>\n",
       "      <td>Berkeley</td>\n",
       "      <td>CA</td>\n",
       "    </tr>\n",
       "    <tr>\n",
       "      <th>2240</th>\n",
       "      <td>19040132</td>\n",
       "      <td>BURGLARY RESIDENTIAL</td>\n",
       "      <td>07/20/2019 12:00:00 AM</td>\n",
       "      <td>08:00</td>\n",
       "      <td>BURGLARY - RESIDENTIAL</td>\n",
       "      <td>6</td>\n",
       "      <td>12/21/2019 07:00:11 AM</td>\n",
       "      <td>Berkeley, CA\\n(37.869058, -122.270455)</td>\n",
       "      <td>NaN</td>\n",
       "      <td>Berkeley</td>\n",
       "      <td>CA</td>\n",
       "    </tr>\n",
       "    <tr>\n",
       "      <th>2368</th>\n",
       "      <td>19092087</td>\n",
       "      <td>THEFT MISD. (UNDER $950)</td>\n",
       "      <td>10/01/2019 12:00:00 AM</td>\n",
       "      <td>11:00</td>\n",
       "      <td>LARCENY</td>\n",
       "      <td>2</td>\n",
       "      <td>12/21/2019 07:00:08 AM</td>\n",
       "      <td>Berkeley, CA\\n(37.869058, -122.270455)</td>\n",
       "      <td>NaN</td>\n",
       "      <td>Berkeley</td>\n",
       "      <td>CA</td>\n",
       "    </tr>\n",
       "    <tr>\n",
       "      <th>2372</th>\n",
       "      <td>19061493</td>\n",
       "      <td>DISTURBANCE</td>\n",
       "      <td>10/29/2019 12:00:00 AM</td>\n",
       "      <td>12:56</td>\n",
       "      <td>DISORDERLY CONDUCT</td>\n",
       "      <td>2</td>\n",
       "      <td>12/21/2019 07:00:09 AM</td>\n",
       "      <td>Berkeley, CA\\n(37.869058, -122.270455)</td>\n",
       "      <td>NaN</td>\n",
       "      <td>Berkeley</td>\n",
       "      <td>CA</td>\n",
       "    </tr>\n",
       "    <tr>\n",
       "      <th>2383</th>\n",
       "      <td>19052158</td>\n",
       "      <td>DOMESTIC VIOLENCE</td>\n",
       "      <td>09/15/2019 12:00:00 AM</td>\n",
       "      <td>12:00</td>\n",
       "      <td>FAMILY OFFENSE</td>\n",
       "      <td>0</td>\n",
       "      <td>12/21/2019 07:00:12 AM</td>\n",
       "      <td>Berkeley, CA\\n(37.869058, -122.270455)</td>\n",
       "      <td>NaN</td>\n",
       "      <td>Berkeley</td>\n",
       "      <td>CA</td>\n",
       "    </tr>\n",
       "    <tr>\n",
       "      <th>2441</th>\n",
       "      <td>19052127</td>\n",
       "      <td>DISTURBANCE</td>\n",
       "      <td>09/15/2019 12:00:00 AM</td>\n",
       "      <td>19:10</td>\n",
       "      <td>DISORDERLY CONDUCT</td>\n",
       "      <td>0</td>\n",
       "      <td>12/21/2019 07:00:12 AM</td>\n",
       "      <td>Berkeley, CA\\n(37.869058, -122.270455)</td>\n",
       "      <td>NaN</td>\n",
       "      <td>Berkeley</td>\n",
       "      <td>CA</td>\n",
       "    </tr>\n",
       "    <tr>\n",
       "      <th>2503</th>\n",
       "      <td>19092183</td>\n",
       "      <td>BURGLARY AUTO</td>\n",
       "      <td>10/11/2019 12:00:00 AM</td>\n",
       "      <td>05:45</td>\n",
       "      <td>BURGLARY - VEHICLE</td>\n",
       "      <td>5</td>\n",
       "      <td>12/21/2019 07:00:09 AM</td>\n",
       "      <td>Berkeley, CA\\n(37.869058, -122.270455)</td>\n",
       "      <td>NaN</td>\n",
       "      <td>Berkeley</td>\n",
       "      <td>CA</td>\n",
       "    </tr>\n",
       "    <tr>\n",
       "      <th>2587</th>\n",
       "      <td>19092028</td>\n",
       "      <td>BURGLARY AUTO</td>\n",
       "      <td>09/23/2019 12:00:00 AM</td>\n",
       "      <td>22:00</td>\n",
       "      <td>BURGLARY - VEHICLE</td>\n",
       "      <td>1</td>\n",
       "      <td>12/21/2019 07:00:13 AM</td>\n",
       "      <td>Berkeley, CA\\n(37.869058, -122.270455)</td>\n",
       "      <td>NaN</td>\n",
       "      <td>Berkeley</td>\n",
       "      <td>CA</td>\n",
       "    </tr>\n",
       "    <tr>\n",
       "      <th>2705</th>\n",
       "      <td>19057438</td>\n",
       "      <td>VEHICLE STOLEN</td>\n",
       "      <td>10/09/2019 12:00:00 AM</td>\n",
       "      <td>20:00</td>\n",
       "      <td>MOTOR VEHICLE THEFT</td>\n",
       "      <td>3</td>\n",
       "      <td>12/21/2019 07:00:08 AM</td>\n",
       "      <td>Berkeley, CA\\n(37.869058, -122.270455)</td>\n",
       "      <td>NaN</td>\n",
       "      <td>Berkeley</td>\n",
       "      <td>CA</td>\n",
       "    </tr>\n",
       "    <tr>\n",
       "      <th>3040</th>\n",
       "      <td>19092661</td>\n",
       "      <td>THEFT MISD. (UNDER $950)</td>\n",
       "      <td>11/29/2019 12:00:00 AM</td>\n",
       "      <td>01:50</td>\n",
       "      <td>LARCENY</td>\n",
       "      <td>5</td>\n",
       "      <td>12/21/2019 07:00:10 AM</td>\n",
       "      <td>Berkeley, CA\\n(37.869058, -122.270455)</td>\n",
       "      <td>NaN</td>\n",
       "      <td>Berkeley</td>\n",
       "      <td>CA</td>\n",
       "    </tr>\n",
       "    <tr>\n",
       "      <th>3119</th>\n",
       "      <td>19038725</td>\n",
       "      <td>VANDALISM</td>\n",
       "      <td>07/15/2019 12:00:00 AM</td>\n",
       "      <td>17:00</td>\n",
       "      <td>VANDALISM</td>\n",
       "      <td>1</td>\n",
       "      <td>12/21/2019 07:00:11 AM</td>\n",
       "      <td>Berkeley, CA\\n(37.869058, -122.270455)</td>\n",
       "      <td>NaN</td>\n",
       "      <td>Berkeley</td>\n",
       "      <td>CA</td>\n",
       "    </tr>\n",
       "    <tr>\n",
       "      <th>3253</th>\n",
       "      <td>19052697</td>\n",
       "      <td>VEHICLE STOLEN</td>\n",
       "      <td>09/17/2019 12:00:00 AM</td>\n",
       "      <td>16:00</td>\n",
       "      <td>MOTOR VEHICLE THEFT</td>\n",
       "      <td>2</td>\n",
       "      <td>12/21/2019 07:00:13 AM</td>\n",
       "      <td>Berkeley, CA\\n(37.869058, -122.270455)</td>\n",
       "      <td>NaN</td>\n",
       "      <td>Berkeley</td>\n",
       "      <td>CA</td>\n",
       "    </tr>\n",
       "    <tr>\n",
       "      <th>3349</th>\n",
       "      <td>19057900</td>\n",
       "      <td>VEHICLE STOLEN</td>\n",
       "      <td>10/11/2019 12:00:00 AM</td>\n",
       "      <td>16:00</td>\n",
       "      <td>MOTOR VEHICLE THEFT</td>\n",
       "      <td>5</td>\n",
       "      <td>12/21/2019 07:00:08 AM</td>\n",
       "      <td>Berkeley, CA\\n(37.869058, -122.270455)</td>\n",
       "      <td>NaN</td>\n",
       "      <td>Berkeley</td>\n",
       "      <td>CA</td>\n",
       "    </tr>\n",
       "    <tr>\n",
       "      <th>3520</th>\n",
       "      <td>19091295</td>\n",
       "      <td>BURGLARY AUTO</td>\n",
       "      <td>06/28/2019 12:00:00 AM</td>\n",
       "      <td>10:00</td>\n",
       "      <td>BURGLARY - VEHICLE</td>\n",
       "      <td>5</td>\n",
       "      <td>12/21/2019 07:00:08 AM</td>\n",
       "      <td>Berkeley, CA\\n(37.869058, -122.270455)</td>\n",
       "      <td>NaN</td>\n",
       "      <td>Berkeley</td>\n",
       "      <td>CA</td>\n",
       "    </tr>\n",
       "    <tr>\n",
       "      <th>3541</th>\n",
       "      <td>19059696</td>\n",
       "      <td>BURGLARY COMMERCIAL</td>\n",
       "      <td>10/21/2019 12:00:00 AM</td>\n",
       "      <td>04:37</td>\n",
       "      <td>BURGLARY - COMMERCIAL</td>\n",
       "      <td>1</td>\n",
       "      <td>12/21/2019 07:00:09 AM</td>\n",
       "      <td>Berkeley, CA\\n(37.869058, -122.270455)</td>\n",
       "      <td>NaN</td>\n",
       "      <td>Berkeley</td>\n",
       "      <td>CA</td>\n",
       "    </tr>\n",
       "    <tr>\n",
       "      <th>3670</th>\n",
       "      <td>19070349</td>\n",
       "      <td>THEFT FROM AUTO</td>\n",
       "      <td>12/11/2019 12:00:00 AM</td>\n",
       "      <td>22:15</td>\n",
       "      <td>LARCENY - FROM VEHICLE</td>\n",
       "      <td>3</td>\n",
       "      <td>12/21/2019 07:00:10 AM</td>\n",
       "      <td>Berkeley, CA\\n(37.869058, -122.270455)</td>\n",
       "      <td>NaN</td>\n",
       "      <td>Berkeley</td>\n",
       "      <td>CA</td>\n",
       "    </tr>\n",
       "    <tr>\n",
       "      <th>4873</th>\n",
       "      <td>19092071</td>\n",
       "      <td>BURGLARY AUTO</td>\n",
       "      <td>09/30/2019 12:00:00 AM</td>\n",
       "      <td>01:50</td>\n",
       "      <td>BURGLARY - VEHICLE</td>\n",
       "      <td>1</td>\n",
       "      <td>12/21/2019 07:00:08 AM</td>\n",
       "      <td>Berkeley, CA\\n(37.869058, -122.270455)</td>\n",
       "      <td>NaN</td>\n",
       "      <td>Berkeley</td>\n",
       "      <td>CA</td>\n",
       "    </tr>\n",
       "    <tr>\n",
       "      <th>4915</th>\n",
       "      <td>19036455</td>\n",
       "      <td>VEHICLE STOLEN</td>\n",
       "      <td>07/05/2019 12:00:00 AM</td>\n",
       "      <td>00:01</td>\n",
       "      <td>MOTOR VEHICLE THEFT</td>\n",
       "      <td>5</td>\n",
       "      <td>12/21/2019 07:00:08 AM</td>\n",
       "      <td>Berkeley, CA\\n(37.869058, -122.270455)</td>\n",
       "      <td>NaN</td>\n",
       "      <td>Berkeley</td>\n",
       "      <td>CA</td>\n",
       "    </tr>\n",
       "    <tr>\n",
       "      <th>5137</th>\n",
       "      <td>19062252</td>\n",
       "      <td>BURGLARY RESIDENTIAL</td>\n",
       "      <td>11/01/2019 12:00:00 AM</td>\n",
       "      <td>18:15</td>\n",
       "      <td>BURGLARY - RESIDENTIAL</td>\n",
       "      <td>5</td>\n",
       "      <td>12/21/2019 07:00:09 AM</td>\n",
       "      <td>Berkeley, CA\\n(37.869058, -122.270455)</td>\n",
       "      <td>NaN</td>\n",
       "      <td>Berkeley</td>\n",
       "      <td>CA</td>\n",
       "    </tr>\n",
       "    <tr>\n",
       "      <th>5323</th>\n",
       "      <td>19092615</td>\n",
       "      <td>BURGLARY RESIDENTIAL</td>\n",
       "      <td>11/23/2019 12:00:00 AM</td>\n",
       "      <td>00:00</td>\n",
       "      <td>BURGLARY - RESIDENTIAL</td>\n",
       "      <td>6</td>\n",
       "      <td>12/21/2019 07:00:10 AM</td>\n",
       "      <td>Berkeley, CA\\n(37.869058, -122.270455)</td>\n",
       "      <td>NaN</td>\n",
       "      <td>Berkeley</td>\n",
       "      <td>CA</td>\n",
       "    </tr>\n",
       "    <tr>\n",
       "      <th>5324</th>\n",
       "      <td>19092033</td>\n",
       "      <td>BURGLARY AUTO</td>\n",
       "      <td>09/23/2019 12:00:00 AM</td>\n",
       "      <td>23:55</td>\n",
       "      <td>BURGLARY - VEHICLE</td>\n",
       "      <td>1</td>\n",
       "      <td>12/21/2019 07:00:13 AM</td>\n",
       "      <td>Berkeley, CA\\n(37.869058, -122.270455)</td>\n",
       "      <td>NaN</td>\n",
       "      <td>Berkeley</td>\n",
       "      <td>CA</td>\n",
       "    </tr>\n",
       "    <tr>\n",
       "      <th>5329</th>\n",
       "      <td>19064707</td>\n",
       "      <td>THEFT FELONY (OVER $950)</td>\n",
       "      <td>11/11/2019 12:00:00 AM</td>\n",
       "      <td>14:00</td>\n",
       "      <td>LARCENY</td>\n",
       "      <td>1</td>\n",
       "      <td>12/21/2019 07:00:09 AM</td>\n",
       "      <td>Berkeley, CA\\n(37.869058, -122.270455)</td>\n",
       "      <td>NaN</td>\n",
       "      <td>Berkeley</td>\n",
       "      <td>CA</td>\n",
       "    </tr>\n",
       "  </tbody>\n",
       "</table>\n",
       "</div>"
      ],
      "text/plain": [
       "        CASENO                   OFFENSE                 EVENTDT EVENTTM  \\\n",
       "10    19092045             BURGLARY AUTO  09/24/2019 12:00:00 AM   21:00   \n",
       "58    19050808             BURGLARY AUTO  09/09/2019 12:00:00 AM   17:00   \n",
       "318   19092284             BURGLARY AUTO  10/19/2019 12:00:00 AM   02:00   \n",
       "750   19061144            VEHICLE STOLEN  10/25/2019 12:00:00 AM   19:00   \n",
       "770   19043768             FRAUD/FORGERY  08/08/2019 12:00:00 AM   17:00   \n",
       "1056  19067870      BURGLARY RESIDENTIAL  11/29/2019 12:00:00 AM   21:40   \n",
       "1173  19051242       BURGLARY COMMERCIAL  09/11/2019 12:00:00 AM   23:24   \n",
       "1329  19053006            VEHICLE STOLEN  09/19/2019 12:00:00 AM   17:00   \n",
       "1354  19067030            IDENTITY THEFT  07/16/2019 12:00:00 AM   07:17   \n",
       "1514  19063874           THEFT FROM AUTO  11/06/2019 12:00:00 AM   21:00   \n",
       "1662  19092109            IDENTITY THEFT  10/01/2019 12:00:00 AM   15:55   \n",
       "1663  19045858       BURGLARY COMMERCIAL  08/17/2019 12:00:00 AM   15:30   \n",
       "1717  19091699                 VANDALISM  08/15/2019 12:00:00 AM   23:30   \n",
       "1902  19036463                 VANDALISM  07/04/2019 12:00:00 AM   18:15   \n",
       "1991  19066725               DISTURBANCE  11/23/2019 12:00:00 AM   15:41   \n",
       "2101  19092328             BURGLARY AUTO  10/24/2019 12:00:00 AM   02:50   \n",
       "2150  19091405           THEFT FROM AUTO  07/15/2019 12:00:00 AM   22:00   \n",
       "2240  19040132      BURGLARY RESIDENTIAL  07/20/2019 12:00:00 AM   08:00   \n",
       "2368  19092087  THEFT MISD. (UNDER $950)  10/01/2019 12:00:00 AM   11:00   \n",
       "2372  19061493               DISTURBANCE  10/29/2019 12:00:00 AM   12:56   \n",
       "2383  19052158         DOMESTIC VIOLENCE  09/15/2019 12:00:00 AM   12:00   \n",
       "2441  19052127               DISTURBANCE  09/15/2019 12:00:00 AM   19:10   \n",
       "2503  19092183             BURGLARY AUTO  10/11/2019 12:00:00 AM   05:45   \n",
       "2587  19092028             BURGLARY AUTO  09/23/2019 12:00:00 AM   22:00   \n",
       "2705  19057438            VEHICLE STOLEN  10/09/2019 12:00:00 AM   20:00   \n",
       "3040  19092661  THEFT MISD. (UNDER $950)  11/29/2019 12:00:00 AM   01:50   \n",
       "3119  19038725                 VANDALISM  07/15/2019 12:00:00 AM   17:00   \n",
       "3253  19052697            VEHICLE STOLEN  09/17/2019 12:00:00 AM   16:00   \n",
       "3349  19057900            VEHICLE STOLEN  10/11/2019 12:00:00 AM   16:00   \n",
       "3520  19091295             BURGLARY AUTO  06/28/2019 12:00:00 AM   10:00   \n",
       "3541  19059696       BURGLARY COMMERCIAL  10/21/2019 12:00:00 AM   04:37   \n",
       "3670  19070349           THEFT FROM AUTO  12/11/2019 12:00:00 AM   22:15   \n",
       "4873  19092071             BURGLARY AUTO  09/30/2019 12:00:00 AM   01:50   \n",
       "4915  19036455            VEHICLE STOLEN  07/05/2019 12:00:00 AM   00:01   \n",
       "5137  19062252      BURGLARY RESIDENTIAL  11/01/2019 12:00:00 AM   18:15   \n",
       "5323  19092615      BURGLARY RESIDENTIAL  11/23/2019 12:00:00 AM   00:00   \n",
       "5324  19092033             BURGLARY AUTO  09/23/2019 12:00:00 AM   23:55   \n",
       "5329  19064707  THEFT FELONY (OVER $950)  11/11/2019 12:00:00 AM   14:00   \n",
       "\n",
       "                    CVLEGEND  CVDOW                InDbDate  \\\n",
       "10        BURGLARY - VEHICLE      2  12/21/2019 07:00:08 AM   \n",
       "58        BURGLARY - VEHICLE      1  12/21/2019 07:00:12 AM   \n",
       "318       BURGLARY - VEHICLE      6  12/21/2019 07:00:09 AM   \n",
       "750      MOTOR VEHICLE THEFT      5  12/21/2019 07:00:09 AM   \n",
       "770                    FRAUD      4  12/21/2019 07:00:11 AM   \n",
       "1056  BURGLARY - RESIDENTIAL      5  12/21/2019 07:00:10 AM   \n",
       "1173   BURGLARY - COMMERCIAL      3  12/21/2019 07:00:12 AM   \n",
       "1329     MOTOR VEHICLE THEFT      4  12/21/2019 07:00:12 AM   \n",
       "1354                   FRAUD      2  12/21/2019 07:00:10 AM   \n",
       "1514  LARCENY - FROM VEHICLE      3  12/21/2019 07:00:09 AM   \n",
       "1662                   FRAUD      2  12/21/2019 07:00:08 AM   \n",
       "1663   BURGLARY - COMMERCIAL      6  12/21/2019 07:00:12 AM   \n",
       "1717               VANDALISM      4  12/21/2019 07:00:12 AM   \n",
       "1902               VANDALISM      4  12/21/2019 07:00:11 AM   \n",
       "1991      DISORDERLY CONDUCT      6  12/21/2019 07:00:10 AM   \n",
       "2101      BURGLARY - VEHICLE      4  12/21/2019 07:00:09 AM   \n",
       "2150  LARCENY - FROM VEHICLE      1  12/21/2019 07:00:11 AM   \n",
       "2240  BURGLARY - RESIDENTIAL      6  12/21/2019 07:00:11 AM   \n",
       "2368                 LARCENY      2  12/21/2019 07:00:08 AM   \n",
       "2372      DISORDERLY CONDUCT      2  12/21/2019 07:00:09 AM   \n",
       "2383          FAMILY OFFENSE      0  12/21/2019 07:00:12 AM   \n",
       "2441      DISORDERLY CONDUCT      0  12/21/2019 07:00:12 AM   \n",
       "2503      BURGLARY - VEHICLE      5  12/21/2019 07:00:09 AM   \n",
       "2587      BURGLARY - VEHICLE      1  12/21/2019 07:00:13 AM   \n",
       "2705     MOTOR VEHICLE THEFT      3  12/21/2019 07:00:08 AM   \n",
       "3040                 LARCENY      5  12/21/2019 07:00:10 AM   \n",
       "3119               VANDALISM      1  12/21/2019 07:00:11 AM   \n",
       "3253     MOTOR VEHICLE THEFT      2  12/21/2019 07:00:13 AM   \n",
       "3349     MOTOR VEHICLE THEFT      5  12/21/2019 07:00:08 AM   \n",
       "3520      BURGLARY - VEHICLE      5  12/21/2019 07:00:08 AM   \n",
       "3541   BURGLARY - COMMERCIAL      1  12/21/2019 07:00:09 AM   \n",
       "3670  LARCENY - FROM VEHICLE      3  12/21/2019 07:00:10 AM   \n",
       "4873      BURGLARY - VEHICLE      1  12/21/2019 07:00:08 AM   \n",
       "4915     MOTOR VEHICLE THEFT      5  12/21/2019 07:00:08 AM   \n",
       "5137  BURGLARY - RESIDENTIAL      5  12/21/2019 07:00:09 AM   \n",
       "5323  BURGLARY - RESIDENTIAL      6  12/21/2019 07:00:10 AM   \n",
       "5324      BURGLARY - VEHICLE      1  12/21/2019 07:00:13 AM   \n",
       "5329                 LARCENY      1  12/21/2019 07:00:09 AM   \n",
       "\n",
       "                              Block_Location BLKADDR      City State  \n",
       "10    Berkeley, CA\\n(37.869058, -122.270455)     NaN  Berkeley    CA  \n",
       "58    Berkeley, CA\\n(37.869058, -122.270455)     NaN  Berkeley    CA  \n",
       "318   Berkeley, CA\\n(37.869058, -122.270455)     NaN  Berkeley    CA  \n",
       "750   Berkeley, CA\\n(37.869058, -122.270455)     NaN  Berkeley    CA  \n",
       "770   Berkeley, CA\\n(37.869058, -122.270455)     NaN  Berkeley    CA  \n",
       "1056  Berkeley, CA\\n(37.869058, -122.270455)     NaN  Berkeley    CA  \n",
       "1173  Berkeley, CA\\n(37.869058, -122.270455)     NaN  Berkeley    CA  \n",
       "1329  Berkeley, CA\\n(37.869058, -122.270455)     NaN  Berkeley    CA  \n",
       "1354  Berkeley, CA\\n(37.869058, -122.270455)     NaN  Berkeley    CA  \n",
       "1514  Berkeley, CA\\n(37.869058, -122.270455)     NaN  Berkeley    CA  \n",
       "1662  Berkeley, CA\\n(37.869058, -122.270455)     NaN  Berkeley    CA  \n",
       "1663  Berkeley, CA\\n(37.869058, -122.270455)     NaN  Berkeley    CA  \n",
       "1717  Berkeley, CA\\n(37.869058, -122.270455)     NaN  Berkeley    CA  \n",
       "1902  Berkeley, CA\\n(37.869058, -122.270455)     NaN  Berkeley    CA  \n",
       "1991  Berkeley, CA\\n(37.869058, -122.270455)     NaN  Berkeley    CA  \n",
       "2101  Berkeley, CA\\n(37.869058, -122.270455)     NaN  Berkeley    CA  \n",
       "2150  Berkeley, CA\\n(37.869058, -122.270455)     NaN  Berkeley    CA  \n",
       "2240  Berkeley, CA\\n(37.869058, -122.270455)     NaN  Berkeley    CA  \n",
       "2368  Berkeley, CA\\n(37.869058, -122.270455)     NaN  Berkeley    CA  \n",
       "2372  Berkeley, CA\\n(37.869058, -122.270455)     NaN  Berkeley    CA  \n",
       "2383  Berkeley, CA\\n(37.869058, -122.270455)     NaN  Berkeley    CA  \n",
       "2441  Berkeley, CA\\n(37.869058, -122.270455)     NaN  Berkeley    CA  \n",
       "2503  Berkeley, CA\\n(37.869058, -122.270455)     NaN  Berkeley    CA  \n",
       "2587  Berkeley, CA\\n(37.869058, -122.270455)     NaN  Berkeley    CA  \n",
       "2705  Berkeley, CA\\n(37.869058, -122.270455)     NaN  Berkeley    CA  \n",
       "3040  Berkeley, CA\\n(37.869058, -122.270455)     NaN  Berkeley    CA  \n",
       "3119  Berkeley, CA\\n(37.869058, -122.270455)     NaN  Berkeley    CA  \n",
       "3253  Berkeley, CA\\n(37.869058, -122.270455)     NaN  Berkeley    CA  \n",
       "3349  Berkeley, CA\\n(37.869058, -122.270455)     NaN  Berkeley    CA  \n",
       "3520  Berkeley, CA\\n(37.869058, -122.270455)     NaN  Berkeley    CA  \n",
       "3541  Berkeley, CA\\n(37.869058, -122.270455)     NaN  Berkeley    CA  \n",
       "3670  Berkeley, CA\\n(37.869058, -122.270455)     NaN  Berkeley    CA  \n",
       "4873  Berkeley, CA\\n(37.869058, -122.270455)     NaN  Berkeley    CA  \n",
       "4915  Berkeley, CA\\n(37.869058, -122.270455)     NaN  Berkeley    CA  \n",
       "5137  Berkeley, CA\\n(37.869058, -122.270455)     NaN  Berkeley    CA  \n",
       "5323  Berkeley, CA\\n(37.869058, -122.270455)     NaN  Berkeley    CA  \n",
       "5324  Berkeley, CA\\n(37.869058, -122.270455)     NaN  Berkeley    CA  \n",
       "5329  Berkeley, CA\\n(37.869058, -122.270455)     NaN  Berkeley    CA  "
      ]
     },
     "execution_count": 4,
     "metadata": {},
     "output_type": "execute_result"
    }
   ],
   "source": [
    "null_rows = calls.isnull().any(axis=1)    # this does not work. Append .any(axis=1) to make it work\n",
    "calls[null_rows]        # boolean indexing"
   ]
  },
  {
   "cell_type": "markdown",
   "metadata": {
    "id": "dj7BCFN_-a0i"
   },
   "source": [
    "`isnull()` applied on the whole dataframe does not produce the intended behaviour. This function needs to be applied to check for *any* NaN values along the column side (*axis=1*)."
   ]
  },
  {
   "cell_type": "code",
   "execution_count": 5,
   "metadata": {
    "id": "wNEy2Jp2-a0k"
   },
   "outputs": [
    {
     "data": {
      "text/plain": [
       "(38, 11)"
      ]
     },
     "execution_count": 5,
     "metadata": {},
     "output_type": "execute_result"
    }
   ],
   "source": [
    "calls[null_rows].shape"
   ]
  },
  {
   "cell_type": "markdown",
   "metadata": {
    "id": "ZwgyeJ-o-a0u"
   },
   "source": [
    "There are 38 entries with at least a column with NaN value. All of them have missing BLKADDR (address) values. We also observe that all of them have Berkeley, CA recorded if the actual address location is missing. So perhaps, this is not a big problem.\n",
    "\n",
    "**Any data that can be cleaned or transformed?**\n",
    "\n",
    "In addition, an inspection of the EVENTDT column shows that it has the correct dates but records 12am for all of its times. Instead, the times are in the EVENTTM column in 24 hours format."
   ]
  },
  {
   "cell_type": "code",
   "execution_count": 6,
   "metadata": {
    "id": "-hJ-JpMq-a0w"
   },
   "outputs": [
    {
     "data": {
      "text/html": [
       "<div>\n",
       "<style scoped>\n",
       "    .dataframe tbody tr th:only-of-type {\n",
       "        vertical-align: middle;\n",
       "    }\n",
       "\n",
       "    .dataframe tbody tr th {\n",
       "        vertical-align: top;\n",
       "    }\n",
       "\n",
       "    .dataframe thead th {\n",
       "        text-align: right;\n",
       "    }\n",
       "</style>\n",
       "<table border=\"1\" class=\"dataframe\">\n",
       "  <thead>\n",
       "    <tr style=\"text-align: right;\">\n",
       "      <th></th>\n",
       "      <th>CASENO</th>\n",
       "      <th>OFFENSE</th>\n",
       "      <th>EVENTDT</th>\n",
       "      <th>EVENTTM</th>\n",
       "      <th>CVLEGEND</th>\n",
       "      <th>CVDOW</th>\n",
       "      <th>InDbDate</th>\n",
       "      <th>Block_Location</th>\n",
       "      <th>BLKADDR</th>\n",
       "      <th>City</th>\n",
       "      <th>State</th>\n",
       "    </tr>\n",
       "  </thead>\n",
       "  <tbody>\n",
       "    <tr>\n",
       "      <th>0</th>\n",
       "      <td>19050601</td>\n",
       "      <td>ASSAULT/BATTERY MISD.</td>\n",
       "      <td>09/06/2019 12:00:00 AM</td>\n",
       "      <td>15:15</td>\n",
       "      <td>ASSAULT</td>\n",
       "      <td>5</td>\n",
       "      <td>12/21/2019 07:00:12 AM</td>\n",
       "      <td>HILLEGASS AVENUE &amp;DERBY ST\\nBerkeley, CA</td>\n",
       "      <td>HILLEGASS AVENUE &amp;DERBY ST</td>\n",
       "      <td>Berkeley</td>\n",
       "      <td>CA</td>\n",
       "    </tr>\n",
       "    <tr>\n",
       "      <th>1</th>\n",
       "      <td>19068295</td>\n",
       "      <td>FRAUD/FORGERY</td>\n",
       "      <td>11/26/2019 12:00:00 AM</td>\n",
       "      <td>12:00</td>\n",
       "      <td>FRAUD</td>\n",
       "      <td>2</td>\n",
       "      <td>12/21/2019 07:00:10 AM</td>\n",
       "      <td>SHATTUCK AV &amp; TELEGRAPH AV\\nBerkeley, CA</td>\n",
       "      <td>SHATTUCK AV &amp; TELEGRAPH AV</td>\n",
       "      <td>Berkeley</td>\n",
       "      <td>CA</td>\n",
       "    </tr>\n",
       "    <tr>\n",
       "      <th>2</th>\n",
       "      <td>19092646</td>\n",
       "      <td>IDENTITY THEFT</td>\n",
       "      <td>10/14/2019 12:00:00 AM</td>\n",
       "      <td>12:25</td>\n",
       "      <td>FRAUD</td>\n",
       "      <td>1</td>\n",
       "      <td>12/21/2019 07:00:10 AM</td>\n",
       "      <td>RUSSELL STREET ST\\nBerkeley, CA</td>\n",
       "      <td>RUSSELL STREET ST</td>\n",
       "      <td>Berkeley</td>\n",
       "      <td>CA</td>\n",
       "    </tr>\n",
       "    <tr>\n",
       "      <th>3</th>\n",
       "      <td>19042662</td>\n",
       "      <td>VEHICLE STOLEN</td>\n",
       "      <td>08/03/2019 12:00:00 AM</td>\n",
       "      <td>19:00</td>\n",
       "      <td>MOTOR VEHICLE THEFT</td>\n",
       "      <td>6</td>\n",
       "      <td>12/21/2019 07:00:11 AM</td>\n",
       "      <td>0 B DOCK\\nBerkeley, CA</td>\n",
       "      <td>0 B DOCK</td>\n",
       "      <td>Berkeley</td>\n",
       "      <td>CA</td>\n",
       "    </tr>\n",
       "    <tr>\n",
       "      <th>4</th>\n",
       "      <td>19049612</td>\n",
       "      <td>THEFT FROM AUTO</td>\n",
       "      <td>09/04/2019 12:00:00 AM</td>\n",
       "      <td>08:00</td>\n",
       "      <td>LARCENY - FROM VEHICLE</td>\n",
       "      <td>3</td>\n",
       "      <td>12/21/2019 07:00:12 AM</td>\n",
       "      <td>700 FLORIDA AVE\\nBerkeley, CA</td>\n",
       "      <td>700 FLORIDA AVE</td>\n",
       "      <td>Berkeley</td>\n",
       "      <td>CA</td>\n",
       "    </tr>\n",
       "    <tr>\n",
       "      <th>5</th>\n",
       "      <td>19052852</td>\n",
       "      <td>MISSING ADULT</td>\n",
       "      <td>09/19/2019 12:00:00 AM</td>\n",
       "      <td>11:27</td>\n",
       "      <td>MISSING PERSON</td>\n",
       "      <td>4</td>\n",
       "      <td>12/21/2019 07:00:12 AM</td>\n",
       "      <td>0 &lt;UNKNOWN&gt;\\nBerkeley, CA</td>\n",
       "      <td>0 &lt;UNKNOWN&gt;</td>\n",
       "      <td>Berkeley</td>\n",
       "      <td>CA</td>\n",
       "    </tr>\n",
       "    <tr>\n",
       "      <th>6</th>\n",
       "      <td>19068080</td>\n",
       "      <td>THEFT MISD. (UNDER $950)</td>\n",
       "      <td>12/01/2019 12:00:00 AM</td>\n",
       "      <td>12:00</td>\n",
       "      <td>LARCENY</td>\n",
       "      <td>0</td>\n",
       "      <td>12/21/2019 07:00:10 AM</td>\n",
       "      <td>600 SHATTUCK SQ\\nBerkeley, CA</td>\n",
       "      <td>600 SHATTUCK SQ</td>\n",
       "      <td>Berkeley</td>\n",
       "      <td>CA</td>\n",
       "    </tr>\n",
       "  </tbody>\n",
       "</table>\n",
       "</div>"
      ],
      "text/plain": [
       "     CASENO                   OFFENSE                 EVENTDT EVENTTM  \\\n",
       "0  19050601     ASSAULT/BATTERY MISD.  09/06/2019 12:00:00 AM   15:15   \n",
       "1  19068295             FRAUD/FORGERY  11/26/2019 12:00:00 AM   12:00   \n",
       "2  19092646            IDENTITY THEFT  10/14/2019 12:00:00 AM   12:25   \n",
       "3  19042662            VEHICLE STOLEN  08/03/2019 12:00:00 AM   19:00   \n",
       "4  19049612           THEFT FROM AUTO  09/04/2019 12:00:00 AM   08:00   \n",
       "5  19052852             MISSING ADULT  09/19/2019 12:00:00 AM   11:27   \n",
       "6  19068080  THEFT MISD. (UNDER $950)  12/01/2019 12:00:00 AM   12:00   \n",
       "\n",
       "                 CVLEGEND  CVDOW                InDbDate  \\\n",
       "0                 ASSAULT      5  12/21/2019 07:00:12 AM   \n",
       "1                   FRAUD      2  12/21/2019 07:00:10 AM   \n",
       "2                   FRAUD      1  12/21/2019 07:00:10 AM   \n",
       "3     MOTOR VEHICLE THEFT      6  12/21/2019 07:00:11 AM   \n",
       "4  LARCENY - FROM VEHICLE      3  12/21/2019 07:00:12 AM   \n",
       "5          MISSING PERSON      4  12/21/2019 07:00:12 AM   \n",
       "6                 LARCENY      0  12/21/2019 07:00:10 AM   \n",
       "\n",
       "                             Block_Location                     BLKADDR  \\\n",
       "0  HILLEGASS AVENUE &DERBY ST\\nBerkeley, CA  HILLEGASS AVENUE &DERBY ST   \n",
       "1  SHATTUCK AV & TELEGRAPH AV\\nBerkeley, CA  SHATTUCK AV & TELEGRAPH AV   \n",
       "2           RUSSELL STREET ST\\nBerkeley, CA           RUSSELL STREET ST   \n",
       "3                    0 B DOCK\\nBerkeley, CA                    0 B DOCK   \n",
       "4             700 FLORIDA AVE\\nBerkeley, CA             700 FLORIDA AVE   \n",
       "5                 0 <UNKNOWN>\\nBerkeley, CA                 0 <UNKNOWN>   \n",
       "6             600 SHATTUCK SQ\\nBerkeley, CA             600 SHATTUCK SQ   \n",
       "\n",
       "       City State  \n",
       "0  Berkeley    CA  \n",
       "1  Berkeley    CA  \n",
       "2  Berkeley    CA  \n",
       "3  Berkeley    CA  \n",
       "4  Berkeley    CA  \n",
       "5  Berkeley    CA  \n",
       "6  Berkeley    CA  "
      ]
     },
     "execution_count": 6,
     "metadata": {},
     "output_type": "execute_result"
    }
   ],
   "source": [
    "calls.head(7)"
   ]
  },
  {
   "cell_type": "markdown",
   "metadata": {
    "id": "WtxkMlp9-a06"
   },
   "source": [
    "As a data cleaning step, we want to merge the EVENTDT and EVENTTM columns to record both date and time in a single field. This single field can take the form of a [`DateTime`](https://docs.python.org/3/library/datetime.html) type, which can be created with pandas [`.to_datetime()`](https://pandas.pydata.org/pandas-docs/stable/reference/api/pandas.to_datetime.html) function. "
   ]
  },
  {
   "cell_type": "code",
   "execution_count": 7,
   "metadata": {
    "id": "02w5Ckbb-a07"
   },
   "outputs": [
    {
     "data": {
      "text/plain": [
       "0       09/06/2019 15:15\n",
       "1       11/26/2019 12:00\n",
       "2       10/14/2019 12:25\n",
       "3       08/03/2019 19:00\n",
       "4       09/04/2019 08:00\n",
       "              ...       \n",
       "5412    09/29/2019 16:50\n",
       "5413    09/29/2019 13:06\n",
       "5414    12/13/2019 14:00\n",
       "5415    11/07/2019 11:45\n",
       "5416    07/12/2019 16:00\n",
       "Length: 5417, dtype: object"
      ]
     },
     "execution_count": 7,
     "metadata": {},
     "output_type": "execute_result"
    }
   ],
   "source": [
    "calls['EVENTDT'].str[:10] + ' ' + calls['EVENTTM']"
   ]
  },
  {
   "cell_type": "code",
   "execution_count": 8,
   "metadata": {
    "id": "pF45AKBB-a1B"
   },
   "outputs": [
    {
     "data": {
      "text/plain": [
       "0   2019-09-06 15:15:00\n",
       "1   2019-11-26 12:00:00\n",
       "2   2019-10-14 12:25:00\n",
       "3   2019-08-03 19:00:00\n",
       "4   2019-09-04 08:00:00\n",
       "dtype: datetime64[ns]"
      ]
     },
     "execution_count": 8,
     "metadata": {},
     "output_type": "execute_result"
    }
   ],
   "source": [
    "combined = pd.to_datetime(\n",
    "    # Combine date and time strings\n",
    "    calls['EVENTDT'].str[:10] + ' ' + calls['EVENTTM'],\n",
    "    infer_datetime_format=True,\n",
    ")\n",
    "combined.head()"
   ]
  },
  {
   "cell_type": "markdown",
   "metadata": {
    "id": "6hCbF_gK-a1I"
   },
   "source": [
    "Let's create a function to place the code that will do this merging of information. This allows the transformation (the function) to be applied to the entire dataframe. "
   ]
  },
  {
   "cell_type": "code",
   "execution_count": 9,
   "metadata": {
    "id": "u8NhqA3Z-a1J"
   },
   "outputs": [],
   "source": [
    "def combine_event_datetimes(calls):\n",
    "    combined = pd.to_datetime(\n",
    "        # Combine date and time strings\n",
    "        calls['EVENTDT'].str[:10] + ' ' + calls['EVENTTM'],\n",
    "        infer_datetime_format=True,\n",
    "    )\n",
    "    return calls.assign(EVENTDTTM=combined)"
   ]
  },
  {
   "cell_type": "markdown",
   "metadata": {
    "id": "1oHaje_I-a1Q"
   },
   "source": [
    "Pandas `assign` function creates new columns to a dataframe. So here, we specify that a new column `EVENTDTTM` is created in `calls` dataframe using the `combined` data. "
   ]
  },
  {
   "cell_type": "code",
   "execution_count": 10,
   "metadata": {
    "id": "TKLzUW85-a1R"
   },
   "outputs": [
    {
     "data": {
      "text/html": [
       "<div>\n",
       "<style scoped>\n",
       "    .dataframe tbody tr th:only-of-type {\n",
       "        vertical-align: middle;\n",
       "    }\n",
       "\n",
       "    .dataframe tbody tr th {\n",
       "        vertical-align: top;\n",
       "    }\n",
       "\n",
       "    .dataframe thead th {\n",
       "        text-align: right;\n",
       "    }\n",
       "</style>\n",
       "<table border=\"1\" class=\"dataframe\">\n",
       "  <thead>\n",
       "    <tr style=\"text-align: right;\">\n",
       "      <th></th>\n",
       "      <th>CASENO</th>\n",
       "      <th>OFFENSE</th>\n",
       "      <th>EVENTDT</th>\n",
       "      <th>EVENTTM</th>\n",
       "      <th>CVLEGEND</th>\n",
       "      <th>CVDOW</th>\n",
       "      <th>InDbDate</th>\n",
       "      <th>Block_Location</th>\n",
       "      <th>BLKADDR</th>\n",
       "      <th>City</th>\n",
       "      <th>State</th>\n",
       "      <th>EVENTDTTM</th>\n",
       "    </tr>\n",
       "  </thead>\n",
       "  <tbody>\n",
       "    <tr>\n",
       "      <th>0</th>\n",
       "      <td>19050601</td>\n",
       "      <td>ASSAULT/BATTERY MISD.</td>\n",
       "      <td>09/06/2019 12:00:00 AM</td>\n",
       "      <td>15:15</td>\n",
       "      <td>ASSAULT</td>\n",
       "      <td>5</td>\n",
       "      <td>12/21/2019 07:00:12 AM</td>\n",
       "      <td>HILLEGASS AVENUE &amp;DERBY ST\\nBerkeley, CA</td>\n",
       "      <td>HILLEGASS AVENUE &amp;DERBY ST</td>\n",
       "      <td>Berkeley</td>\n",
       "      <td>CA</td>\n",
       "      <td>2019-09-06 15:15:00</td>\n",
       "    </tr>\n",
       "    <tr>\n",
       "      <th>1</th>\n",
       "      <td>19068295</td>\n",
       "      <td>FRAUD/FORGERY</td>\n",
       "      <td>11/26/2019 12:00:00 AM</td>\n",
       "      <td>12:00</td>\n",
       "      <td>FRAUD</td>\n",
       "      <td>2</td>\n",
       "      <td>12/21/2019 07:00:10 AM</td>\n",
       "      <td>SHATTUCK AV &amp; TELEGRAPH AV\\nBerkeley, CA</td>\n",
       "      <td>SHATTUCK AV &amp; TELEGRAPH AV</td>\n",
       "      <td>Berkeley</td>\n",
       "      <td>CA</td>\n",
       "      <td>2019-11-26 12:00:00</td>\n",
       "    </tr>\n",
       "    <tr>\n",
       "      <th>2</th>\n",
       "      <td>19092646</td>\n",
       "      <td>IDENTITY THEFT</td>\n",
       "      <td>10/14/2019 12:00:00 AM</td>\n",
       "      <td>12:25</td>\n",
       "      <td>FRAUD</td>\n",
       "      <td>1</td>\n",
       "      <td>12/21/2019 07:00:10 AM</td>\n",
       "      <td>RUSSELL STREET ST\\nBerkeley, CA</td>\n",
       "      <td>RUSSELL STREET ST</td>\n",
       "      <td>Berkeley</td>\n",
       "      <td>CA</td>\n",
       "      <td>2019-10-14 12:25:00</td>\n",
       "    </tr>\n",
       "    <tr>\n",
       "      <th>3</th>\n",
       "      <td>19042662</td>\n",
       "      <td>VEHICLE STOLEN</td>\n",
       "      <td>08/03/2019 12:00:00 AM</td>\n",
       "      <td>19:00</td>\n",
       "      <td>MOTOR VEHICLE THEFT</td>\n",
       "      <td>6</td>\n",
       "      <td>12/21/2019 07:00:11 AM</td>\n",
       "      <td>0 B DOCK\\nBerkeley, CA</td>\n",
       "      <td>0 B DOCK</td>\n",
       "      <td>Berkeley</td>\n",
       "      <td>CA</td>\n",
       "      <td>2019-08-03 19:00:00</td>\n",
       "    </tr>\n",
       "    <tr>\n",
       "      <th>4</th>\n",
       "      <td>19049612</td>\n",
       "      <td>THEFT FROM AUTO</td>\n",
       "      <td>09/04/2019 12:00:00 AM</td>\n",
       "      <td>08:00</td>\n",
       "      <td>LARCENY - FROM VEHICLE</td>\n",
       "      <td>3</td>\n",
       "      <td>12/21/2019 07:00:12 AM</td>\n",
       "      <td>700 FLORIDA AVE\\nBerkeley, CA</td>\n",
       "      <td>700 FLORIDA AVE</td>\n",
       "      <td>Berkeley</td>\n",
       "      <td>CA</td>\n",
       "      <td>2019-09-04 08:00:00</td>\n",
       "    </tr>\n",
       "  </tbody>\n",
       "</table>\n",
       "</div>"
      ],
      "text/plain": [
       "     CASENO                OFFENSE                 EVENTDT EVENTTM  \\\n",
       "0  19050601  ASSAULT/BATTERY MISD.  09/06/2019 12:00:00 AM   15:15   \n",
       "1  19068295          FRAUD/FORGERY  11/26/2019 12:00:00 AM   12:00   \n",
       "2  19092646         IDENTITY THEFT  10/14/2019 12:00:00 AM   12:25   \n",
       "3  19042662         VEHICLE STOLEN  08/03/2019 12:00:00 AM   19:00   \n",
       "4  19049612        THEFT FROM AUTO  09/04/2019 12:00:00 AM   08:00   \n",
       "\n",
       "                 CVLEGEND  CVDOW                InDbDate  \\\n",
       "0                 ASSAULT      5  12/21/2019 07:00:12 AM   \n",
       "1                   FRAUD      2  12/21/2019 07:00:10 AM   \n",
       "2                   FRAUD      1  12/21/2019 07:00:10 AM   \n",
       "3     MOTOR VEHICLE THEFT      6  12/21/2019 07:00:11 AM   \n",
       "4  LARCENY - FROM VEHICLE      3  12/21/2019 07:00:12 AM   \n",
       "\n",
       "                             Block_Location                     BLKADDR  \\\n",
       "0  HILLEGASS AVENUE &DERBY ST\\nBerkeley, CA  HILLEGASS AVENUE &DERBY ST   \n",
       "1  SHATTUCK AV & TELEGRAPH AV\\nBerkeley, CA  SHATTUCK AV & TELEGRAPH AV   \n",
       "2           RUSSELL STREET ST\\nBerkeley, CA           RUSSELL STREET ST   \n",
       "3                    0 B DOCK\\nBerkeley, CA                    0 B DOCK   \n",
       "4             700 FLORIDA AVE\\nBerkeley, CA             700 FLORIDA AVE   \n",
       "\n",
       "       City State           EVENTDTTM  \n",
       "0  Berkeley    CA 2019-09-06 15:15:00  \n",
       "1  Berkeley    CA 2019-11-26 12:00:00  \n",
       "2  Berkeley    CA 2019-10-14 12:25:00  \n",
       "3  Berkeley    CA 2019-08-03 19:00:00  \n",
       "4  Berkeley    CA 2019-09-04 08:00:00  "
      ]
     },
     "execution_count": 10,
     "metadata": {},
     "output_type": "execute_result"
    }
   ],
   "source": [
    "calls.pipe(combine_event_datetimes).head()   # this does not make it permanent. To do so, assign it to another new dataframe"
   ]
  },
  {
   "cell_type": "markdown",
   "metadata": {
    "id": "yJ7MaeWyGJ5B"
   },
   "source": [
    "The [`pipe`](https://pandas.pydata.org/pandas-docs/stable/reference/api/pandas.DataFrame.pipe.html) function allows a function to be applied to the entire dataframe. Another similar kind of function, [`apply`](https://pandas.pydata.org/pandas-docs/stable/reference/api/pandas.DataFrame.apply.html#pandas.DataFrame.apply) allows a function to be applied to a specific axis of the dataframe, row-wise or column-wise. "
   ]
  },
  {
   "cell_type": "markdown",
   "metadata": {
    "id": "mxeXM2LN-a1Z"
   },
   "source": [
    "**Is the data entered by a human?**\n",
    "\n",
    "It looks like most of the data columns are machine-recorded, including the date, time, day of week, and location of the event.\n",
    "\n",
    "In addition, the OFFENSE and CVLEGEND columns appear to contain consistent values. We can check the unique values in each column to see if anything was misspelled:"
   ]
  },
  {
   "cell_type": "code",
   "execution_count": 11,
   "metadata": {
    "id": "87YflrwV-a1a"
   },
   "outputs": [
    {
     "data": {
      "text/plain": [
       "array(['ASSAULT/BATTERY MISD.', 'FRAUD/FORGERY', 'IDENTITY THEFT',\n",
       "       'VEHICLE STOLEN', 'THEFT FROM AUTO', 'MISSING ADULT',\n",
       "       'THEFT MISD. (UNDER $950)', 'VANDALISM', 'ROBBERY',\n",
       "       'BURGLARY AUTO', 'NARCOTICS', 'ALCOHOL OFFENSE',\n",
       "       'BURGLARY RESIDENTIAL', 'BURGLARY COMMERCIAL',\n",
       "       'THEFT FELONY (OVER $950)', 'DISTURBANCE', 'VEHICLE RECOVERED',\n",
       "       'SEXUAL ASSAULT FEL.', 'ASSAULT/BATTERY FEL.', 'DOMESTIC VIOLENCE',\n",
       "       'GUN/WEAPON', 'ARSON', 'DISTURBANCE - NOISE', 'VICE',\n",
       "       'BRANDISHING', 'THEFT FROM PERSON', 'SEXUAL ASSAULT MISD.',\n",
       "       '2ND RESPONSE', 'KIDNAPPING', 'MISSING JUVENILE',\n",
       "       'VEHICLE CODE - DUI', 'MUNICIPAL CODE'], dtype=object)"
      ]
     },
     "execution_count": 11,
     "metadata": {},
     "output_type": "execute_result"
    }
   ],
   "source": [
    "calls['OFFENSE'].unique()"
   ]
  },
  {
   "cell_type": "code",
   "execution_count": 12,
   "metadata": {
    "id": "sKMcNEH--a1g"
   },
   "outputs": [
    {
     "data": {
      "text/plain": [
       "array(['ASSAULT', 'FRAUD', 'MOTOR VEHICLE THEFT',\n",
       "       'LARCENY - FROM VEHICLE', 'MISSING PERSON', 'LARCENY', 'VANDALISM',\n",
       "       'ROBBERY', 'BURGLARY - VEHICLE', 'DRUG VIOLATION',\n",
       "       'LIQUOR LAW VIOLATION', 'BURGLARY - RESIDENTIAL',\n",
       "       'BURGLARY - COMMERCIAL', 'DISORDERLY CONDUCT', 'RECOVERED VEHICLE',\n",
       "       'SEX CRIME', 'FAMILY OFFENSE', 'WEAPONS OFFENSE', 'ARSON',\n",
       "       'NOISE VIOLATION', 'KIDNAPPING', 'DUI', 'ALL OTHER OFFENSES'],\n",
       "      dtype=object)"
      ]
     },
     "execution_count": 12,
     "metadata": {},
     "output_type": "execute_result"
    }
   ],
   "source": [
    "calls['CVLEGEND'].unique()"
   ]
  },
  {
   "cell_type": "markdown",
   "metadata": {
    "id": "PHHyfU5v-a1m"
   },
   "source": [
    "By checking the BLKADDR column, we find some inconsistencies -- that sometimes an address is recorded (e.g. 2500 LE CONTE AVE) but other times a cross street is recorded (e.g. ALLSTON WAY & FIFTH ST) which is not specific enough. This suggests that a human entered this data in and this column will be difficult to use for analysis. Fortunately, we can use the latitude and longitude of the event instead of the street address."
   ]
  },
  {
   "cell_type": "code",
   "execution_count": 13,
   "metadata": {
    "id": "Q9dp2325-a1q"
   },
   "outputs": [
    {
     "data": {
      "text/plain": [
       "1       SHATTUCK AV & TELEGRAPH AV\n",
       "5001                1500 EUCLID AV\n",
       "Name: BLKADDR, dtype: object"
      ]
     },
     "execution_count": 13,
     "metadata": {},
     "output_type": "execute_result"
    }
   ],
   "source": [
    "calls['BLKADDR'][[1, 5001]]"
   ]
  },
  {
   "cell_type": "markdown",
   "metadata": {
    "id": "DcgRsILp-a1w"
   },
   "source": [
    "Doing some random checks on the lattitude and longitude of the event shows that it is not entirely consistent as well. Some records contain the latitude and longitude information, some do not. "
   ]
  },
  {
   "cell_type": "code",
   "execution_count": 14,
   "metadata": {
    "id": "jrbFE6TG-a1x"
   },
   "outputs": [
    {
     "data": {
      "text/plain": [
       "array(['MILVIA STREET & BANCROFT WY\\nBerkeley, CA\\n(37.867291, -122.270245)',\n",
       "       '2800 TELEGRAPH AV\\nBerkeley, CA\\n(37.859309, -122.259291)',\n",
       "       '2100 SHATTUCK AV\\nBerkeley, CA\\n(37.871167, -122.268285)',\n",
       "       '1900 SHATTUCK AV\\nBerkeley, CA\\n(37.873687, -122.268616)',\n",
       "       'TREMONT STREET & ESSEX ST\\nBerkeley, CA\\n(37.853552, -122.268286)',\n",
       "       'SHATTUCK AVE\\nBerkeley, CA',\n",
       "       '1400 SHATTUCK AV\\nBerkeley, CA\\n(37.881957, -122.269551)',\n",
       "       '1000 GILMAN ST\\nBerkeley, CA\\n(37.88014, -122.297498)',\n",
       "       '1800 ACTON ST\\nBerkeley, CA\\n(37.872563, -122.284648)',\n",
       "       'MARTIN LUTHER KING JR WY & CHANNING WY\\nBerkeley, CA\\n(37.865169, -122.272303)'],\n",
       "      dtype=object)"
      ]
     },
     "execution_count": 14,
     "metadata": {},
     "output_type": "execute_result"
    }
   ],
   "source": [
    "calls.loc[100:109, 'Block_Location'].values   # look at 10 records from 100 to 109. Free to change this range"
   ]
  },
  {
   "cell_type": "markdown",
   "metadata": {
    "id": "DK-20_8z-a16"
   },
   "source": [
    "The `Block_Location` column seemed to contain strings that record address, latitutde and longitude. Regardless of whether it has the complete set of information or not, we can separate the latitutde and longitude, and discard the actual address which is not that valuable.\n",
    "\n",
    "Using a sample record, the following procedure performs this transformation:"
   ]
  },
  {
   "cell_type": "code",
   "execution_count": 15,
   "metadata": {
    "id": "zV0zOPGe-a17"
   },
   "outputs": [
    {
     "data": {
      "text/plain": [
       "5412    [1300 SAN PABLO AV, Berkeley, CA, (37.880228, ...\n",
       "5413    [1200 RUSSELL ST, Berkeley, CA, (37.853864, -1...\n",
       "5414    [1900 GRANT ST, Berkeley, CA, (37.873017, -122...\n",
       "5415    [1500 HEARST AV, Berkeley, CA, (37.872158, -12...\n",
       "5416    [2400 BONAR ST, Berkeley, CA, (37.863241, -122...\n",
       "Name: Block_Location, dtype: object"
      ]
     },
     "execution_count": 15,
     "metadata": {},
     "output_type": "execute_result"
    }
   ],
   "source": [
    "z = calls['Block_Location']\n",
    "z = z.str.split('\\n')    # convert data to string, then split by the \\n \n",
    "z.tail()                 # view last 5 for easy peek at the records that need processing"
   ]
  },
  {
   "cell_type": "markdown",
   "metadata": {
    "id": "mphQkFVn-a2C"
   },
   "source": [
    "> **Note**: This [str.split](https://pandas.pydata.org/pandas-docs/stable/reference/api/pandas.Series.str.split.html) is one that belongs to pandas, not the [split](https://docs.python.org/3.8/library/stdtypes.html#str.split) function of the Python string class."
   ]
  },
  {
   "cell_type": "code",
   "execution_count": 16,
   "metadata": {
    "id": "PeNFwAc5-a2D"
   },
   "outputs": [
    {
     "data": {
      "text/plain": [
       "5412    (37.880228, -122.295798)\n",
       "5413    (37.853864, -122.285643)\n",
       "5414    (37.873017, -122.275481)\n",
       "5415    (37.872158, -122.282066)\n",
       "5416    (37.863241, -122.286176)\n",
       "Name: Block_Location, dtype: object"
      ]
     },
     "execution_count": 16,
     "metadata": {},
     "output_type": "execute_result"
    }
   ],
   "source": [
    "z = z.str[2]    # discard the first 3 items in the list, leaving the (lat,long) \n",
    "z.tail()"
   ]
  },
  {
   "cell_type": "code",
   "execution_count": 17,
   "metadata": {
    "id": "F2keFNRj-a2L"
   },
   "outputs": [
    {
     "data": {
      "text/html": [
       "<div>\n",
       "<style scoped>\n",
       "    .dataframe tbody tr th:only-of-type {\n",
       "        vertical-align: middle;\n",
       "    }\n",
       "\n",
       "    .dataframe tbody tr th {\n",
       "        vertical-align: top;\n",
       "    }\n",
       "\n",
       "    .dataframe thead th {\n",
       "        text-align: right;\n",
       "    }\n",
       "</style>\n",
       "<table border=\"1\" class=\"dataframe\">\n",
       "  <thead>\n",
       "    <tr style=\"text-align: right;\">\n",
       "      <th></th>\n",
       "      <th>0</th>\n",
       "      <th>1</th>\n",
       "    </tr>\n",
       "  </thead>\n",
       "  <tbody>\n",
       "    <tr>\n",
       "      <th>5412</th>\n",
       "      <td>37.880228</td>\n",
       "      <td>-122.295798</td>\n",
       "    </tr>\n",
       "    <tr>\n",
       "      <th>5413</th>\n",
       "      <td>37.853864</td>\n",
       "      <td>-122.285643</td>\n",
       "    </tr>\n",
       "    <tr>\n",
       "      <th>5414</th>\n",
       "      <td>37.873017</td>\n",
       "      <td>-122.275481</td>\n",
       "    </tr>\n",
       "    <tr>\n",
       "      <th>5415</th>\n",
       "      <td>37.872158</td>\n",
       "      <td>-122.282066</td>\n",
       "    </tr>\n",
       "    <tr>\n",
       "      <th>5416</th>\n",
       "      <td>37.863241</td>\n",
       "      <td>-122.286176</td>\n",
       "    </tr>\n",
       "  </tbody>\n",
       "</table>\n",
       "</div>"
      ],
      "text/plain": [
       "              0            1\n",
       "5412  37.880228  -122.295798\n",
       "5413  37.853864  -122.285643\n",
       "5414  37.873017  -122.275481\n",
       "5415  37.872158  -122.282066\n",
       "5416  37.863241  -122.286176"
      ]
     },
     "execution_count": 17,
     "metadata": {},
     "output_type": "execute_result"
    }
   ],
   "source": [
    "# it is a string, not a tuple, so we need to remove the parentheses, split again by , and dump both into separate columns\n",
    "z = z.str[1:-1].str.split(', ', expand=True)  \n",
    "z.tail()"
   ]
  },
  {
   "cell_type": "code",
   "execution_count": 18,
   "metadata": {
    "id": "8jGYJMrl-a2Q"
   },
   "outputs": [
    {
     "data": {
      "text/html": [
       "<div>\n",
       "<style scoped>\n",
       "    .dataframe tbody tr th:only-of-type {\n",
       "        vertical-align: middle;\n",
       "    }\n",
       "\n",
       "    .dataframe tbody tr th {\n",
       "        vertical-align: top;\n",
       "    }\n",
       "\n",
       "    .dataframe thead th {\n",
       "        text-align: right;\n",
       "    }\n",
       "</style>\n",
       "<table border=\"1\" class=\"dataframe\">\n",
       "  <thead>\n",
       "    <tr style=\"text-align: right;\">\n",
       "      <th></th>\n",
       "      <th>Latitude</th>\n",
       "      <th>Longitude</th>\n",
       "    </tr>\n",
       "  </thead>\n",
       "  <tbody>\n",
       "    <tr>\n",
       "      <th>5412</th>\n",
       "      <td>37.880228</td>\n",
       "      <td>-122.295798</td>\n",
       "    </tr>\n",
       "    <tr>\n",
       "      <th>5413</th>\n",
       "      <td>37.853864</td>\n",
       "      <td>-122.285643</td>\n",
       "    </tr>\n",
       "    <tr>\n",
       "      <th>5414</th>\n",
       "      <td>37.873017</td>\n",
       "      <td>-122.275481</td>\n",
       "    </tr>\n",
       "    <tr>\n",
       "      <th>5415</th>\n",
       "      <td>37.872158</td>\n",
       "      <td>-122.282066</td>\n",
       "    </tr>\n",
       "    <tr>\n",
       "      <th>5416</th>\n",
       "      <td>37.863241</td>\n",
       "      <td>-122.286176</td>\n",
       "    </tr>\n",
       "  </tbody>\n",
       "</table>\n",
       "</div>"
      ],
      "text/plain": [
       "       Latitude    Longitude\n",
       "5412  37.880228  -122.295798\n",
       "5413  37.853864  -122.285643\n",
       "5414  37.873017  -122.275481\n",
       "5415  37.872158  -122.282066\n",
       "5416  37.863241  -122.286176"
      ]
     },
     "execution_count": 18,
     "metadata": {},
     "output_type": "execute_result"
    }
   ],
   "source": [
    "# finally, to rename the column names...\n",
    "z = z.rename(columns={0: \"Latitude\", 1: \"Longitude\"})\n",
    "z.tail()"
   ]
  },
  {
   "cell_type": "markdown",
   "metadata": {
    "id": "9VKF7wFJ-a2V"
   },
   "source": [
    "The remaining step will be to join this two columns back to the original dataframe `calls`. Let's put this all into a function:"
   ]
  },
  {
   "cell_type": "code",
   "execution_count": 19,
   "metadata": {
    "id": "SXJXt0s_-a2W"
   },
   "outputs": [
    {
     "data": {
      "text/html": [
       "<div>\n",
       "<style scoped>\n",
       "    .dataframe tbody tr th:only-of-type {\n",
       "        vertical-align: middle;\n",
       "    }\n",
       "\n",
       "    .dataframe tbody tr th {\n",
       "        vertical-align: top;\n",
       "    }\n",
       "\n",
       "    .dataframe thead th {\n",
       "        text-align: right;\n",
       "    }\n",
       "</style>\n",
       "<table border=\"1\" class=\"dataframe\">\n",
       "  <thead>\n",
       "    <tr style=\"text-align: right;\">\n",
       "      <th></th>\n",
       "      <th>CASENO</th>\n",
       "      <th>OFFENSE</th>\n",
       "      <th>EVENTDT</th>\n",
       "      <th>EVENTTM</th>\n",
       "      <th>CVLEGEND</th>\n",
       "      <th>CVDOW</th>\n",
       "      <th>InDbDate</th>\n",
       "      <th>Block_Location</th>\n",
       "      <th>BLKADDR</th>\n",
       "      <th>City</th>\n",
       "      <th>State</th>\n",
       "      <th>Latitude</th>\n",
       "      <th>Longitude</th>\n",
       "    </tr>\n",
       "  </thead>\n",
       "  <tbody>\n",
       "    <tr>\n",
       "      <th>5412</th>\n",
       "      <td>19055171</td>\n",
       "      <td>THEFT MISD. (UNDER $950)</td>\n",
       "      <td>09/29/2019 12:00:00 AM</td>\n",
       "      <td>16:50</td>\n",
       "      <td>LARCENY</td>\n",
       "      <td>0</td>\n",
       "      <td>12/21/2019 07:00:13 AM</td>\n",
       "      <td>1300 SAN PABLO AV\\nBerkeley, CA\\n(37.880228, -...</td>\n",
       "      <td>1300 SAN PABLO AV</td>\n",
       "      <td>Berkeley</td>\n",
       "      <td>CA</td>\n",
       "      <td>37.880228</td>\n",
       "      <td>-122.295798</td>\n",
       "    </tr>\n",
       "    <tr>\n",
       "      <th>5413</th>\n",
       "      <td>19055139</td>\n",
       "      <td>DISTURBANCE</td>\n",
       "      <td>09/29/2019 12:00:00 AM</td>\n",
       "      <td>13:06</td>\n",
       "      <td>DISORDERLY CONDUCT</td>\n",
       "      <td>0</td>\n",
       "      <td>12/21/2019 07:00:13 AM</td>\n",
       "      <td>1200 RUSSELL ST\\nBerkeley, CA\\n(37.853864, -12...</td>\n",
       "      <td>1200 RUSSELL ST</td>\n",
       "      <td>Berkeley</td>\n",
       "      <td>CA</td>\n",
       "      <td>37.853864</td>\n",
       "      <td>-122.285643</td>\n",
       "    </tr>\n",
       "    <tr>\n",
       "      <th>5414</th>\n",
       "      <td>19092811</td>\n",
       "      <td>VANDALISM</td>\n",
       "      <td>12/13/2019 12:00:00 AM</td>\n",
       "      <td>14:00</td>\n",
       "      <td>VANDALISM</td>\n",
       "      <td>5</td>\n",
       "      <td>12/21/2019 07:00:11 AM</td>\n",
       "      <td>1900 GRANT ST\\nBerkeley, CA\\n(37.873017, -122....</td>\n",
       "      <td>1900 GRANT ST</td>\n",
       "      <td>Berkeley</td>\n",
       "      <td>CA</td>\n",
       "      <td>37.873017</td>\n",
       "      <td>-122.275481</td>\n",
       "    </tr>\n",
       "    <tr>\n",
       "      <th>5415</th>\n",
       "      <td>19092456</td>\n",
       "      <td>THEFT FELONY (OVER $950)</td>\n",
       "      <td>11/07/2019 12:00:00 AM</td>\n",
       "      <td>11:45</td>\n",
       "      <td>LARCENY</td>\n",
       "      <td>4</td>\n",
       "      <td>12/21/2019 07:00:09 AM</td>\n",
       "      <td>1500 HEARST AV\\nBerkeley, CA\\n(37.872158, -122...</td>\n",
       "      <td>1500 HEARST AV</td>\n",
       "      <td>Berkeley</td>\n",
       "      <td>CA</td>\n",
       "      <td>37.872158</td>\n",
       "      <td>-122.282066</td>\n",
       "    </tr>\n",
       "    <tr>\n",
       "      <th>5416</th>\n",
       "      <td>19091384</td>\n",
       "      <td>VANDALISM</td>\n",
       "      <td>07/12/2019 12:00:00 AM</td>\n",
       "      <td>16:00</td>\n",
       "      <td>VANDALISM</td>\n",
       "      <td>5</td>\n",
       "      <td>12/21/2019 07:00:11 AM</td>\n",
       "      <td>2400 BONAR ST\\nBerkeley, CA\\n(37.863241, -122....</td>\n",
       "      <td>2400 BONAR ST</td>\n",
       "      <td>Berkeley</td>\n",
       "      <td>CA</td>\n",
       "      <td>37.863241</td>\n",
       "      <td>-122.286176</td>\n",
       "    </tr>\n",
       "  </tbody>\n",
       "</table>\n",
       "</div>"
      ],
      "text/plain": [
       "        CASENO                   OFFENSE                 EVENTDT EVENTTM  \\\n",
       "5412  19055171  THEFT MISD. (UNDER $950)  09/29/2019 12:00:00 AM   16:50   \n",
       "5413  19055139               DISTURBANCE  09/29/2019 12:00:00 AM   13:06   \n",
       "5414  19092811                 VANDALISM  12/13/2019 12:00:00 AM   14:00   \n",
       "5415  19092456  THEFT FELONY (OVER $950)  11/07/2019 12:00:00 AM   11:45   \n",
       "5416  19091384                 VANDALISM  07/12/2019 12:00:00 AM   16:00   \n",
       "\n",
       "                CVLEGEND  CVDOW                InDbDate  \\\n",
       "5412             LARCENY      0  12/21/2019 07:00:13 AM   \n",
       "5413  DISORDERLY CONDUCT      0  12/21/2019 07:00:13 AM   \n",
       "5414           VANDALISM      5  12/21/2019 07:00:11 AM   \n",
       "5415             LARCENY      4  12/21/2019 07:00:09 AM   \n",
       "5416           VANDALISM      5  12/21/2019 07:00:11 AM   \n",
       "\n",
       "                                         Block_Location            BLKADDR  \\\n",
       "5412  1300 SAN PABLO AV\\nBerkeley, CA\\n(37.880228, -...  1300 SAN PABLO AV   \n",
       "5413  1200 RUSSELL ST\\nBerkeley, CA\\n(37.853864, -12...    1200 RUSSELL ST   \n",
       "5414  1900 GRANT ST\\nBerkeley, CA\\n(37.873017, -122....      1900 GRANT ST   \n",
       "5415  1500 HEARST AV\\nBerkeley, CA\\n(37.872158, -122...     1500 HEARST AV   \n",
       "5416  2400 BONAR ST\\nBerkeley, CA\\n(37.863241, -122....      2400 BONAR ST   \n",
       "\n",
       "          City State   Latitude    Longitude  \n",
       "5412  Berkeley    CA  37.880228  -122.295798  \n",
       "5413  Berkeley    CA  37.853864  -122.285643  \n",
       "5414  Berkeley    CA  37.873017  -122.275481  \n",
       "5415  Berkeley    CA  37.872158  -122.282066  \n",
       "5416  Berkeley    CA  37.863241  -122.286176  "
      ]
     },
     "execution_count": 19,
     "metadata": {},
     "output_type": "execute_result"
    }
   ],
   "source": [
    "def split_lat_lon(calls):\n",
    "    return calls.join(\n",
    "        calls['Block_Location']\n",
    "        # Get coords from string\n",
    "        .str.split('\\n').str[2]\n",
    "        # Remove parens from coords\n",
    "        .str[1:-1]\n",
    "        # Split latitude and longitude\n",
    "        .str.split(', ', expand=True)\n",
    "        .rename(columns={0: 'Latitude', 1: 'Longitude'})\n",
    "    )\n",
    "\n",
    "calls.pipe(split_lat_lon).tail()"
   ]
  },
  {
   "cell_type": "markdown",
   "metadata": {
    "id": "oPYruXBj-a2d"
   },
   "source": [
    "Hooray! It works. But what happens to entries without the lat. and long. information?"
   ]
  },
  {
   "cell_type": "code",
   "execution_count": 20,
   "metadata": {
    "id": "wFuAHKlr-a2e"
   },
   "outputs": [
    {
     "data": {
      "text/html": [
       "<div>\n",
       "<style scoped>\n",
       "    .dataframe tbody tr th:only-of-type {\n",
       "        vertical-align: middle;\n",
       "    }\n",
       "\n",
       "    .dataframe tbody tr th {\n",
       "        vertical-align: top;\n",
       "    }\n",
       "\n",
       "    .dataframe thead th {\n",
       "        text-align: right;\n",
       "    }\n",
       "</style>\n",
       "<table border=\"1\" class=\"dataframe\">\n",
       "  <thead>\n",
       "    <tr style=\"text-align: right;\">\n",
       "      <th></th>\n",
       "      <th>CASENO</th>\n",
       "      <th>OFFENSE</th>\n",
       "      <th>EVENTDT</th>\n",
       "      <th>EVENTTM</th>\n",
       "      <th>CVLEGEND</th>\n",
       "      <th>CVDOW</th>\n",
       "      <th>InDbDate</th>\n",
       "      <th>Block_Location</th>\n",
       "      <th>BLKADDR</th>\n",
       "      <th>City</th>\n",
       "      <th>State</th>\n",
       "      <th>Latitude</th>\n",
       "      <th>Longitude</th>\n",
       "    </tr>\n",
       "  </thead>\n",
       "  <tbody>\n",
       "    <tr>\n",
       "      <th>0</th>\n",
       "      <td>19050601</td>\n",
       "      <td>ASSAULT/BATTERY MISD.</td>\n",
       "      <td>09/06/2019 12:00:00 AM</td>\n",
       "      <td>15:15</td>\n",
       "      <td>ASSAULT</td>\n",
       "      <td>5</td>\n",
       "      <td>12/21/2019 07:00:12 AM</td>\n",
       "      <td>HILLEGASS AVENUE &amp;DERBY ST\\nBerkeley, CA</td>\n",
       "      <td>HILLEGASS AVENUE &amp;DERBY ST</td>\n",
       "      <td>Berkeley</td>\n",
       "      <td>CA</td>\n",
       "      <td>NaN</td>\n",
       "      <td>NaN</td>\n",
       "    </tr>\n",
       "    <tr>\n",
       "      <th>1</th>\n",
       "      <td>19068295</td>\n",
       "      <td>FRAUD/FORGERY</td>\n",
       "      <td>11/26/2019 12:00:00 AM</td>\n",
       "      <td>12:00</td>\n",
       "      <td>FRAUD</td>\n",
       "      <td>2</td>\n",
       "      <td>12/21/2019 07:00:10 AM</td>\n",
       "      <td>SHATTUCK AV &amp; TELEGRAPH AV\\nBerkeley, CA</td>\n",
       "      <td>SHATTUCK AV &amp; TELEGRAPH AV</td>\n",
       "      <td>Berkeley</td>\n",
       "      <td>CA</td>\n",
       "      <td>NaN</td>\n",
       "      <td>NaN</td>\n",
       "    </tr>\n",
       "    <tr>\n",
       "      <th>2</th>\n",
       "      <td>19092646</td>\n",
       "      <td>IDENTITY THEFT</td>\n",
       "      <td>10/14/2019 12:00:00 AM</td>\n",
       "      <td>12:25</td>\n",
       "      <td>FRAUD</td>\n",
       "      <td>1</td>\n",
       "      <td>12/21/2019 07:00:10 AM</td>\n",
       "      <td>RUSSELL STREET ST\\nBerkeley, CA</td>\n",
       "      <td>RUSSELL STREET ST</td>\n",
       "      <td>Berkeley</td>\n",
       "      <td>CA</td>\n",
       "      <td>NaN</td>\n",
       "      <td>NaN</td>\n",
       "    </tr>\n",
       "    <tr>\n",
       "      <th>3</th>\n",
       "      <td>19042662</td>\n",
       "      <td>VEHICLE STOLEN</td>\n",
       "      <td>08/03/2019 12:00:00 AM</td>\n",
       "      <td>19:00</td>\n",
       "      <td>MOTOR VEHICLE THEFT</td>\n",
       "      <td>6</td>\n",
       "      <td>12/21/2019 07:00:11 AM</td>\n",
       "      <td>0 B DOCK\\nBerkeley, CA</td>\n",
       "      <td>0 B DOCK</td>\n",
       "      <td>Berkeley</td>\n",
       "      <td>CA</td>\n",
       "      <td>NaN</td>\n",
       "      <td>NaN</td>\n",
       "    </tr>\n",
       "    <tr>\n",
       "      <th>4</th>\n",
       "      <td>19049612</td>\n",
       "      <td>THEFT FROM AUTO</td>\n",
       "      <td>09/04/2019 12:00:00 AM</td>\n",
       "      <td>08:00</td>\n",
       "      <td>LARCENY - FROM VEHICLE</td>\n",
       "      <td>3</td>\n",
       "      <td>12/21/2019 07:00:12 AM</td>\n",
       "      <td>700 FLORIDA AVE\\nBerkeley, CA</td>\n",
       "      <td>700 FLORIDA AVE</td>\n",
       "      <td>Berkeley</td>\n",
       "      <td>CA</td>\n",
       "      <td>NaN</td>\n",
       "      <td>NaN</td>\n",
       "    </tr>\n",
       "    <tr>\n",
       "      <th>5</th>\n",
       "      <td>19052852</td>\n",
       "      <td>MISSING ADULT</td>\n",
       "      <td>09/19/2019 12:00:00 AM</td>\n",
       "      <td>11:27</td>\n",
       "      <td>MISSING PERSON</td>\n",
       "      <td>4</td>\n",
       "      <td>12/21/2019 07:00:12 AM</td>\n",
       "      <td>0 &lt;UNKNOWN&gt;\\nBerkeley, CA</td>\n",
       "      <td>0 &lt;UNKNOWN&gt;</td>\n",
       "      <td>Berkeley</td>\n",
       "      <td>CA</td>\n",
       "      <td>NaN</td>\n",
       "      <td>NaN</td>\n",
       "    </tr>\n",
       "    <tr>\n",
       "      <th>6</th>\n",
       "      <td>19068080</td>\n",
       "      <td>THEFT MISD. (UNDER $950)</td>\n",
       "      <td>12/01/2019 12:00:00 AM</td>\n",
       "      <td>12:00</td>\n",
       "      <td>LARCENY</td>\n",
       "      <td>0</td>\n",
       "      <td>12/21/2019 07:00:10 AM</td>\n",
       "      <td>600 SHATTUCK SQ\\nBerkeley, CA</td>\n",
       "      <td>600 SHATTUCK SQ</td>\n",
       "      <td>Berkeley</td>\n",
       "      <td>CA</td>\n",
       "      <td>NaN</td>\n",
       "      <td>NaN</td>\n",
       "    </tr>\n",
       "    <tr>\n",
       "      <th>7</th>\n",
       "      <td>19041310</td>\n",
       "      <td>VANDALISM</td>\n",
       "      <td>07/29/2019 12:00:00 AM</td>\n",
       "      <td>00:30</td>\n",
       "      <td>VANDALISM</td>\n",
       "      <td>1</td>\n",
       "      <td>12/21/2019 07:00:11 AM</td>\n",
       "      <td>6000 CHABOLYN TE\\nBerkeley, CA</td>\n",
       "      <td>6000 CHABOLYN TE</td>\n",
       "      <td>Berkeley</td>\n",
       "      <td>CA</td>\n",
       "      <td>NaN</td>\n",
       "      <td>NaN</td>\n",
       "    </tr>\n",
       "    <tr>\n",
       "      <th>8</th>\n",
       "      <td>19059779</td>\n",
       "      <td>ASSAULT/BATTERY MISD.</td>\n",
       "      <td>10/21/2019 12:00:00 AM</td>\n",
       "      <td>13:47</td>\n",
       "      <td>ASSAULT</td>\n",
       "      <td>1</td>\n",
       "      <td>12/21/2019 07:00:09 AM</td>\n",
       "      <td>HEARST AVE\\nBerkeley, CA</td>\n",
       "      <td>HEARST AVE</td>\n",
       "      <td>Berkeley</td>\n",
       "      <td>CA</td>\n",
       "      <td>NaN</td>\n",
       "      <td>NaN</td>\n",
       "    </tr>\n",
       "    <tr>\n",
       "      <th>9</th>\n",
       "      <td>19057555</td>\n",
       "      <td>ROBBERY</td>\n",
       "      <td>10/10/2019 12:00:00 AM</td>\n",
       "      <td>19:08</td>\n",
       "      <td>ROBBERY</td>\n",
       "      <td>4</td>\n",
       "      <td>12/21/2019 07:00:08 AM</td>\n",
       "      <td>1900 SHATTUCK AV\\nBerkeley, CA\\n(37.873687, -1...</td>\n",
       "      <td>1900 SHATTUCK AV</td>\n",
       "      <td>Berkeley</td>\n",
       "      <td>CA</td>\n",
       "      <td>37.873687</td>\n",
       "      <td>-122.268616</td>\n",
       "    </tr>\n",
       "  </tbody>\n",
       "</table>\n",
       "</div>"
      ],
      "text/plain": [
       "     CASENO                   OFFENSE                 EVENTDT EVENTTM  \\\n",
       "0  19050601     ASSAULT/BATTERY MISD.  09/06/2019 12:00:00 AM   15:15   \n",
       "1  19068295             FRAUD/FORGERY  11/26/2019 12:00:00 AM   12:00   \n",
       "2  19092646            IDENTITY THEFT  10/14/2019 12:00:00 AM   12:25   \n",
       "3  19042662            VEHICLE STOLEN  08/03/2019 12:00:00 AM   19:00   \n",
       "4  19049612           THEFT FROM AUTO  09/04/2019 12:00:00 AM   08:00   \n",
       "5  19052852             MISSING ADULT  09/19/2019 12:00:00 AM   11:27   \n",
       "6  19068080  THEFT MISD. (UNDER $950)  12/01/2019 12:00:00 AM   12:00   \n",
       "7  19041310                 VANDALISM  07/29/2019 12:00:00 AM   00:30   \n",
       "8  19059779     ASSAULT/BATTERY MISD.  10/21/2019 12:00:00 AM   13:47   \n",
       "9  19057555                   ROBBERY  10/10/2019 12:00:00 AM   19:08   \n",
       "\n",
       "                 CVLEGEND  CVDOW                InDbDate  \\\n",
       "0                 ASSAULT      5  12/21/2019 07:00:12 AM   \n",
       "1                   FRAUD      2  12/21/2019 07:00:10 AM   \n",
       "2                   FRAUD      1  12/21/2019 07:00:10 AM   \n",
       "3     MOTOR VEHICLE THEFT      6  12/21/2019 07:00:11 AM   \n",
       "4  LARCENY - FROM VEHICLE      3  12/21/2019 07:00:12 AM   \n",
       "5          MISSING PERSON      4  12/21/2019 07:00:12 AM   \n",
       "6                 LARCENY      0  12/21/2019 07:00:10 AM   \n",
       "7               VANDALISM      1  12/21/2019 07:00:11 AM   \n",
       "8                 ASSAULT      1  12/21/2019 07:00:09 AM   \n",
       "9                 ROBBERY      4  12/21/2019 07:00:08 AM   \n",
       "\n",
       "                                      Block_Location  \\\n",
       "0           HILLEGASS AVENUE &DERBY ST\\nBerkeley, CA   \n",
       "1           SHATTUCK AV & TELEGRAPH AV\\nBerkeley, CA   \n",
       "2                    RUSSELL STREET ST\\nBerkeley, CA   \n",
       "3                             0 B DOCK\\nBerkeley, CA   \n",
       "4                      700 FLORIDA AVE\\nBerkeley, CA   \n",
       "5                          0 <UNKNOWN>\\nBerkeley, CA   \n",
       "6                      600 SHATTUCK SQ\\nBerkeley, CA   \n",
       "7                     6000 CHABOLYN TE\\nBerkeley, CA   \n",
       "8                           HEARST AVE\\nBerkeley, CA   \n",
       "9  1900 SHATTUCK AV\\nBerkeley, CA\\n(37.873687, -1...   \n",
       "\n",
       "                      BLKADDR      City State   Latitude    Longitude  \n",
       "0  HILLEGASS AVENUE &DERBY ST  Berkeley    CA        NaN          NaN  \n",
       "1  SHATTUCK AV & TELEGRAPH AV  Berkeley    CA        NaN          NaN  \n",
       "2           RUSSELL STREET ST  Berkeley    CA        NaN          NaN  \n",
       "3                    0 B DOCK  Berkeley    CA        NaN          NaN  \n",
       "4             700 FLORIDA AVE  Berkeley    CA        NaN          NaN  \n",
       "5                 0 <UNKNOWN>  Berkeley    CA        NaN          NaN  \n",
       "6             600 SHATTUCK SQ  Berkeley    CA        NaN          NaN  \n",
       "7            6000 CHABOLYN TE  Berkeley    CA        NaN          NaN  \n",
       "8                  HEARST AVE  Berkeley    CA        NaN          NaN  \n",
       "9            1900 SHATTUCK AV  Berkeley    CA  37.873687  -122.268616  "
      ]
     },
     "execution_count": 20,
     "metadata": {},
     "output_type": "execute_result"
    }
   ],
   "source": [
    "calls.pipe(split_lat_lon).head(10)    "
   ]
  },
  {
   "cell_type": "markdown",
   "metadata": {
    "id": "G5NdCEwZ-a2k"
   },
   "source": [
    "Yes, NaN as you would expect since the values are not available. Assessing the damage..."
   ]
  },
  {
   "cell_type": "code",
   "execution_count": 21,
   "metadata": {
    "id": "6N4vFUP_-a2l"
   },
   "outputs": [
    {
     "data": {
      "text/plain": [
       "238"
      ]
     },
     "execution_count": 21,
     "metadata": {},
     "output_type": "execute_result"
    }
   ],
   "source": [
    "calls.pipe(split_lat_lon).isnull().any(axis=1).sum()  "
   ]
  },
  {
   "cell_type": "code",
   "execution_count": 22,
   "metadata": {
    "id": "uKtvhWAZPV7E"
   },
   "outputs": [
    {
     "data": {
      "text/plain": [
       "5417"
      ]
     },
     "execution_count": 22,
     "metadata": {},
     "output_type": "execute_result"
    }
   ],
   "source": [
    "len(calls)"
   ]
  },
  {
   "cell_type": "markdown",
   "metadata": {
    "id": "mmNS2pRX-a2v"
   },
   "source": [
    "That's quite a lot of rows...but to put things into perspective, how many percent of the entire dataframe has this issue?"
   ]
  },
  {
   "cell_type": "code",
   "execution_count": 23,
   "metadata": {
    "id": "0jbgh5Af-a2w"
   },
   "outputs": [
    {
     "data": {
      "text/plain": [
       "4.393575779952004"
      ]
     },
     "execution_count": 23,
     "metadata": {},
     "output_type": "execute_result"
    }
   ],
   "source": [
    "calls.pipe(split_lat_lon).isnull().any(axis=1).sum() / len(calls) * 100"
   ]
  },
  {
   "cell_type": "markdown",
   "metadata": {
    "id": "z_Mtsp3a-a21"
   },
   "source": [
    "< 5% is quite reasonable in most cases, so we can leave it as such until further processing is needed.\n",
    "\n",
    "<hr>"
   ]
  },
  {
   "cell_type": "markdown",
   "metadata": {
    "id": "-Hsv3-s--a22"
   },
   "source": [
    "The `CVDOW` column contains a number which indicates the day of the week. E.g. 0 indicates Sunday, 1 indicates Monday, etc.\n",
    "Let's first create a mapping between the number and the day."
   ]
  },
  {
   "cell_type": "code",
   "execution_count": 24,
   "metadata": {
    "id": "241FWZYa-a23"
   },
   "outputs": [
    {
     "data": {
      "text/html": [
       "<div>\n",
       "<style scoped>\n",
       "    .dataframe tbody tr th:only-of-type {\n",
       "        vertical-align: middle;\n",
       "    }\n",
       "\n",
       "    .dataframe tbody tr th {\n",
       "        vertical-align: top;\n",
       "    }\n",
       "\n",
       "    .dataframe thead th {\n",
       "        text-align: right;\n",
       "    }\n",
       "</style>\n",
       "<table border=\"1\" class=\"dataframe\">\n",
       "  <thead>\n",
       "    <tr style=\"text-align: right;\">\n",
       "      <th></th>\n",
       "      <th>CVDOW</th>\n",
       "      <th>Day</th>\n",
       "    </tr>\n",
       "  </thead>\n",
       "  <tbody>\n",
       "    <tr>\n",
       "      <th>0</th>\n",
       "      <td>0</td>\n",
       "      <td>Sunday</td>\n",
       "    </tr>\n",
       "    <tr>\n",
       "      <th>1</th>\n",
       "      <td>1</td>\n",
       "      <td>Monday</td>\n",
       "    </tr>\n",
       "    <tr>\n",
       "      <th>2</th>\n",
       "      <td>2</td>\n",
       "      <td>Tuesday</td>\n",
       "    </tr>\n",
       "    <tr>\n",
       "      <th>3</th>\n",
       "      <td>3</td>\n",
       "      <td>Wednesday</td>\n",
       "    </tr>\n",
       "    <tr>\n",
       "      <th>4</th>\n",
       "      <td>4</td>\n",
       "      <td>Thursday</td>\n",
       "    </tr>\n",
       "    <tr>\n",
       "      <th>5</th>\n",
       "      <td>5</td>\n",
       "      <td>Friday</td>\n",
       "    </tr>\n",
       "    <tr>\n",
       "      <th>6</th>\n",
       "      <td>6</td>\n",
       "      <td>Saturday</td>\n",
       "    </tr>\n",
       "  </tbody>\n",
       "</table>\n",
       "</div>"
      ],
      "text/plain": [
       "   CVDOW        Day\n",
       "0      0     Sunday\n",
       "1      1     Monday\n",
       "2      2    Tuesday\n",
       "3      3  Wednesday\n",
       "4      4   Thursday\n",
       "5      5     Friday\n",
       "6      6   Saturday"
      ]
     },
     "execution_count": 24,
     "metadata": {},
     "output_type": "execute_result"
    }
   ],
   "source": [
    "day_of_week = pd.DataFrame({'CVDOW':[0, 1, 2, 3, 4, 5, 6], 'Day': ['Sunday', 'Monday','Tuesday', 'Wednesday', 'Thursday', 'Friday', 'Saturday']})\n",
    "day_of_week"
   ]
  },
  {
   "cell_type": "markdown",
   "metadata": {
    "id": "wGi8NJaq-a3E"
   },
   "source": [
    "Write another function which finds the day of the week (based on CVDOW) and merge it back to the dataframe."
   ]
  },
  {
   "cell_type": "code",
   "execution_count": 25,
   "metadata": {
    "id": "A0binTol-a3H"
   },
   "outputs": [
    {
     "data": {
      "text/html": [
       "<div>\n",
       "<style scoped>\n",
       "    .dataframe tbody tr th:only-of-type {\n",
       "        vertical-align: middle;\n",
       "    }\n",
       "\n",
       "    .dataframe tbody tr th {\n",
       "        vertical-align: top;\n",
       "    }\n",
       "\n",
       "    .dataframe thead th {\n",
       "        text-align: right;\n",
       "    }\n",
       "</style>\n",
       "<table border=\"1\" class=\"dataframe\">\n",
       "  <thead>\n",
       "    <tr style=\"text-align: right;\">\n",
       "      <th></th>\n",
       "      <th>CASENO</th>\n",
       "      <th>OFFENSE</th>\n",
       "      <th>EVENTDT</th>\n",
       "      <th>EVENTTM</th>\n",
       "      <th>CVLEGEND</th>\n",
       "      <th>CVDOW</th>\n",
       "      <th>InDbDate</th>\n",
       "      <th>Block_Location</th>\n",
       "      <th>BLKADDR</th>\n",
       "      <th>City</th>\n",
       "      <th>State</th>\n",
       "      <th>Day</th>\n",
       "    </tr>\n",
       "  </thead>\n",
       "  <tbody>\n",
       "    <tr>\n",
       "      <th>0</th>\n",
       "      <td>19050601</td>\n",
       "      <td>ASSAULT/BATTERY MISD.</td>\n",
       "      <td>09/06/2019 12:00:00 AM</td>\n",
       "      <td>15:15</td>\n",
       "      <td>ASSAULT</td>\n",
       "      <td>5</td>\n",
       "      <td>12/21/2019 07:00:12 AM</td>\n",
       "      <td>HILLEGASS AVENUE &amp;DERBY ST\\nBerkeley, CA</td>\n",
       "      <td>HILLEGASS AVENUE &amp;DERBY ST</td>\n",
       "      <td>Berkeley</td>\n",
       "      <td>CA</td>\n",
       "      <td>Friday</td>\n",
       "    </tr>\n",
       "    <tr>\n",
       "      <th>1</th>\n",
       "      <td>19037903</td>\n",
       "      <td>ROBBERY</td>\n",
       "      <td>07/12/2019 12:00:00 AM</td>\n",
       "      <td>15:45</td>\n",
       "      <td>ROBBERY</td>\n",
       "      <td>5</td>\n",
       "      <td>12/21/2019 07:00:11 AM</td>\n",
       "      <td>2400 DWIGHT WY\\nBerkeley, CA\\n(37.864826, -122...</td>\n",
       "      <td>2400 DWIGHT WY</td>\n",
       "      <td>Berkeley</td>\n",
       "      <td>CA</td>\n",
       "      <td>Friday</td>\n",
       "    </tr>\n",
       "    <tr>\n",
       "      <th>2</th>\n",
       "      <td>19060736</td>\n",
       "      <td>BURGLARY COMMERCIAL</td>\n",
       "      <td>10/25/2019 12:00:00 AM</td>\n",
       "      <td>19:25</td>\n",
       "      <td>BURGLARY - COMMERCIAL</td>\n",
       "      <td>5</td>\n",
       "      <td>12/21/2019 07:00:09 AM</td>\n",
       "      <td>2600 TELEGRAPH AV\\nBerkeley, CA\\n(37.862927, -...</td>\n",
       "      <td>2600 TELEGRAPH AV</td>\n",
       "      <td>Berkeley</td>\n",
       "      <td>CA</td>\n",
       "      <td>Friday</td>\n",
       "    </tr>\n",
       "    <tr>\n",
       "      <th>3</th>\n",
       "      <td>19042425</td>\n",
       "      <td>THEFT MISD. (UNDER $950)</td>\n",
       "      <td>08/02/2019 12:00:00 AM</td>\n",
       "      <td>20:47</td>\n",
       "      <td>LARCENY</td>\n",
       "      <td>5</td>\n",
       "      <td>12/21/2019 07:00:11 AM</td>\n",
       "      <td>1400 SHATTUCK AV\\nBerkeley, CA\\n(37.881957, -1...</td>\n",
       "      <td>1400 SHATTUCK AV</td>\n",
       "      <td>Berkeley</td>\n",
       "      <td>CA</td>\n",
       "      <td>Friday</td>\n",
       "    </tr>\n",
       "    <tr>\n",
       "      <th>4</th>\n",
       "      <td>19046958</td>\n",
       "      <td>BURGLARY AUTO</td>\n",
       "      <td>08/23/2019 12:00:00 AM</td>\n",
       "      <td>12:40</td>\n",
       "      <td>BURGLARY - VEHICLE</td>\n",
       "      <td>5</td>\n",
       "      <td>12/21/2019 07:00:12 AM</td>\n",
       "      <td>2000 5TH ST\\nBerkeley, CA\\n(37.867271, -122.29...</td>\n",
       "      <td>2000 5TH ST</td>\n",
       "      <td>Berkeley</td>\n",
       "      <td>CA</td>\n",
       "      <td>Friday</td>\n",
       "    </tr>\n",
       "  </tbody>\n",
       "</table>\n",
       "</div>"
      ],
      "text/plain": [
       "     CASENO                   OFFENSE                 EVENTDT EVENTTM  \\\n",
       "0  19050601     ASSAULT/BATTERY MISD.  09/06/2019 12:00:00 AM   15:15   \n",
       "1  19037903                   ROBBERY  07/12/2019 12:00:00 AM   15:45   \n",
       "2  19060736       BURGLARY COMMERCIAL  10/25/2019 12:00:00 AM   19:25   \n",
       "3  19042425  THEFT MISD. (UNDER $950)  08/02/2019 12:00:00 AM   20:47   \n",
       "4  19046958             BURGLARY AUTO  08/23/2019 12:00:00 AM   12:40   \n",
       "\n",
       "                CVLEGEND  CVDOW                InDbDate  \\\n",
       "0                ASSAULT      5  12/21/2019 07:00:12 AM   \n",
       "1                ROBBERY      5  12/21/2019 07:00:11 AM   \n",
       "2  BURGLARY - COMMERCIAL      5  12/21/2019 07:00:09 AM   \n",
       "3                LARCENY      5  12/21/2019 07:00:11 AM   \n",
       "4     BURGLARY - VEHICLE      5  12/21/2019 07:00:12 AM   \n",
       "\n",
       "                                      Block_Location  \\\n",
       "0           HILLEGASS AVENUE &DERBY ST\\nBerkeley, CA   \n",
       "1  2400 DWIGHT WY\\nBerkeley, CA\\n(37.864826, -122...   \n",
       "2  2600 TELEGRAPH AV\\nBerkeley, CA\\n(37.862927, -...   \n",
       "3  1400 SHATTUCK AV\\nBerkeley, CA\\n(37.881957, -1...   \n",
       "4  2000 5TH ST\\nBerkeley, CA\\n(37.867271, -122.29...   \n",
       "\n",
       "                      BLKADDR      City State     Day  \n",
       "0  HILLEGASS AVENUE &DERBY ST  Berkeley    CA  Friday  \n",
       "1              2400 DWIGHT WY  Berkeley    CA  Friday  \n",
       "2           2600 TELEGRAPH AV  Berkeley    CA  Friday  \n",
       "3            1400 SHATTUCK AV  Berkeley    CA  Friday  \n",
       "4                 2000 5TH ST  Berkeley    CA  Friday  "
      ]
     },
     "execution_count": 25,
     "metadata": {},
     "output_type": "execute_result"
    }
   ],
   "source": [
    "def match_weekday(calls):\n",
    "    return calls.merge(day_of_week, on='CVDOW')  # the 'on' takes on a column which exists on both sides\n",
    "\n",
    "calls.pipe(match_weekday).head()"
   ]
  },
  {
   "cell_type": "markdown",
   "metadata": {
    "id": "v9w2Nsd3-a3O"
   },
   "source": [
    "And finally, let's write a function to drop the columns that we no longer need:"
   ]
  },
  {
   "cell_type": "code",
   "execution_count": 26,
   "metadata": {
    "id": "yygEbodn-a3P"
   },
   "outputs": [],
   "source": [
    "def drop_unneeded_cols(calls):\n",
    "    return calls.drop(columns=['CVDOW', 'InDbDate', 'Block_Location', 'City',\n",
    "                               'State', 'EVENTDT', 'EVENTTM'])"
   ]
  },
  {
   "cell_type": "markdown",
   "metadata": {
    "id": "JbAkcTSi-a3W"
   },
   "source": [
    "The reason why we have been constructing functions for all these cleaning and transformation steps, is so that we can now make this into a cleaning pipeline, which we can \"pipe\" the dataframe through. Imagine the data being passed from one procedure to another, until the end. The eventual output will be one that is completely cleaned and transformed."
   ]
  },
  {
   "cell_type": "code",
   "execution_count": 27,
   "metadata": {
    "id": "C-6908em-a3Y"
   },
   "outputs": [
    {
     "data": {
      "text/html": [
       "<div>\n",
       "<style scoped>\n",
       "    .dataframe tbody tr th:only-of-type {\n",
       "        vertical-align: middle;\n",
       "    }\n",
       "\n",
       "    .dataframe tbody tr th {\n",
       "        vertical-align: top;\n",
       "    }\n",
       "\n",
       "    .dataframe thead th {\n",
       "        text-align: right;\n",
       "    }\n",
       "</style>\n",
       "<table border=\"1\" class=\"dataframe\">\n",
       "  <thead>\n",
       "    <tr style=\"text-align: right;\">\n",
       "      <th></th>\n",
       "      <th>CASENO</th>\n",
       "      <th>OFFENSE</th>\n",
       "      <th>CVLEGEND</th>\n",
       "      <th>BLKADDR</th>\n",
       "      <th>EVENTDTTM</th>\n",
       "      <th>Latitude</th>\n",
       "      <th>Longitude</th>\n",
       "      <th>Day</th>\n",
       "    </tr>\n",
       "  </thead>\n",
       "  <tbody>\n",
       "    <tr>\n",
       "      <th>0</th>\n",
       "      <td>19050601</td>\n",
       "      <td>ASSAULT/BATTERY MISD.</td>\n",
       "      <td>ASSAULT</td>\n",
       "      <td>HILLEGASS AVENUE &amp;DERBY ST</td>\n",
       "      <td>2019-09-06 15:15:00</td>\n",
       "      <td>NaN</td>\n",
       "      <td>NaN</td>\n",
       "      <td>Friday</td>\n",
       "    </tr>\n",
       "    <tr>\n",
       "      <th>1</th>\n",
       "      <td>19037903</td>\n",
       "      <td>ROBBERY</td>\n",
       "      <td>ROBBERY</td>\n",
       "      <td>2400 DWIGHT WY</td>\n",
       "      <td>2019-07-12 15:45:00</td>\n",
       "      <td>37.864826</td>\n",
       "      <td>-122.260719</td>\n",
       "      <td>Friday</td>\n",
       "    </tr>\n",
       "    <tr>\n",
       "      <th>2</th>\n",
       "      <td>19060736</td>\n",
       "      <td>BURGLARY COMMERCIAL</td>\n",
       "      <td>BURGLARY - COMMERCIAL</td>\n",
       "      <td>2600 TELEGRAPH AV</td>\n",
       "      <td>2019-10-25 19:25:00</td>\n",
       "      <td>37.862927</td>\n",
       "      <td>-122.258784</td>\n",
       "      <td>Friday</td>\n",
       "    </tr>\n",
       "    <tr>\n",
       "      <th>3</th>\n",
       "      <td>19042425</td>\n",
       "      <td>THEFT MISD. (UNDER $950)</td>\n",
       "      <td>LARCENY</td>\n",
       "      <td>1400 SHATTUCK AV</td>\n",
       "      <td>2019-08-02 20:47:00</td>\n",
       "      <td>37.881957</td>\n",
       "      <td>-122.269551</td>\n",
       "      <td>Friday</td>\n",
       "    </tr>\n",
       "    <tr>\n",
       "      <th>4</th>\n",
       "      <td>19046958</td>\n",
       "      <td>BURGLARY AUTO</td>\n",
       "      <td>BURGLARY - VEHICLE</td>\n",
       "      <td>2000 5TH ST</td>\n",
       "      <td>2019-08-23 12:40:00</td>\n",
       "      <td>37.867271</td>\n",
       "      <td>-122.298682</td>\n",
       "      <td>Friday</td>\n",
       "    </tr>\n",
       "    <tr>\n",
       "      <th>...</th>\n",
       "      <td>...</td>\n",
       "      <td>...</td>\n",
       "      <td>...</td>\n",
       "      <td>...</td>\n",
       "      <td>...</td>\n",
       "      <td>...</td>\n",
       "      <td>...</td>\n",
       "      <td>...</td>\n",
       "    </tr>\n",
       "    <tr>\n",
       "      <th>5412</th>\n",
       "      <td>19055360</td>\n",
       "      <td>BURGLARY AUTO</td>\n",
       "      <td>BURGLARY - VEHICLE</td>\n",
       "      <td>700 SAN LORENZO AVE</td>\n",
       "      <td>2019-09-29 20:00:00</td>\n",
       "      <td>NaN</td>\n",
       "      <td>NaN</td>\n",
       "      <td>Sunday</td>\n",
       "    </tr>\n",
       "    <tr>\n",
       "      <th>5413</th>\n",
       "      <td>19041273</td>\n",
       "      <td>BURGLARY AUTO</td>\n",
       "      <td>BURGLARY - VEHICLE</td>\n",
       "      <td>1900 STUART ST</td>\n",
       "      <td>2019-07-28 20:10:00</td>\n",
       "      <td>37.857951</td>\n",
       "      <td>-122.271494</td>\n",
       "      <td>Sunday</td>\n",
       "    </tr>\n",
       "    <tr>\n",
       "      <th>5414</th>\n",
       "      <td>19055075</td>\n",
       "      <td>ROBBERY</td>\n",
       "      <td>ROBBERY</td>\n",
       "      <td>1600 OXFORD ST</td>\n",
       "      <td>2019-09-29 02:15:00</td>\n",
       "      <td>37.878552</td>\n",
       "      <td>-122.266844</td>\n",
       "      <td>Sunday</td>\n",
       "    </tr>\n",
       "    <tr>\n",
       "      <th>5415</th>\n",
       "      <td>19055171</td>\n",
       "      <td>THEFT MISD. (UNDER $950)</td>\n",
       "      <td>LARCENY</td>\n",
       "      <td>1300 SAN PABLO AV</td>\n",
       "      <td>2019-09-29 16:50:00</td>\n",
       "      <td>37.880228</td>\n",
       "      <td>-122.295798</td>\n",
       "      <td>Sunday</td>\n",
       "    </tr>\n",
       "    <tr>\n",
       "      <th>5416</th>\n",
       "      <td>19055139</td>\n",
       "      <td>DISTURBANCE</td>\n",
       "      <td>DISORDERLY CONDUCT</td>\n",
       "      <td>1200 RUSSELL ST</td>\n",
       "      <td>2019-09-29 13:06:00</td>\n",
       "      <td>37.853864</td>\n",
       "      <td>-122.285643</td>\n",
       "      <td>Sunday</td>\n",
       "    </tr>\n",
       "  </tbody>\n",
       "</table>\n",
       "<p>5417 rows × 8 columns</p>\n",
       "</div>"
      ],
      "text/plain": [
       "        CASENO                   OFFENSE               CVLEGEND  \\\n",
       "0     19050601     ASSAULT/BATTERY MISD.                ASSAULT   \n",
       "1     19037903                   ROBBERY                ROBBERY   \n",
       "2     19060736       BURGLARY COMMERCIAL  BURGLARY - COMMERCIAL   \n",
       "3     19042425  THEFT MISD. (UNDER $950)                LARCENY   \n",
       "4     19046958             BURGLARY AUTO     BURGLARY - VEHICLE   \n",
       "...        ...                       ...                    ...   \n",
       "5412  19055360             BURGLARY AUTO     BURGLARY - VEHICLE   \n",
       "5413  19041273             BURGLARY AUTO     BURGLARY - VEHICLE   \n",
       "5414  19055075                   ROBBERY                ROBBERY   \n",
       "5415  19055171  THEFT MISD. (UNDER $950)                LARCENY   \n",
       "5416  19055139               DISTURBANCE     DISORDERLY CONDUCT   \n",
       "\n",
       "                         BLKADDR           EVENTDTTM   Latitude    Longitude  \\\n",
       "0     HILLEGASS AVENUE &DERBY ST 2019-09-06 15:15:00        NaN          NaN   \n",
       "1                 2400 DWIGHT WY 2019-07-12 15:45:00  37.864826  -122.260719   \n",
       "2              2600 TELEGRAPH AV 2019-10-25 19:25:00  37.862927  -122.258784   \n",
       "3               1400 SHATTUCK AV 2019-08-02 20:47:00  37.881957  -122.269551   \n",
       "4                    2000 5TH ST 2019-08-23 12:40:00  37.867271  -122.298682   \n",
       "...                          ...                 ...        ...          ...   \n",
       "5412         700 SAN LORENZO AVE 2019-09-29 20:00:00        NaN          NaN   \n",
       "5413              1900 STUART ST 2019-07-28 20:10:00  37.857951  -122.271494   \n",
       "5414              1600 OXFORD ST 2019-09-29 02:15:00  37.878552  -122.266844   \n",
       "5415           1300 SAN PABLO AV 2019-09-29 16:50:00  37.880228  -122.295798   \n",
       "5416             1200 RUSSELL ST 2019-09-29 13:06:00  37.853864  -122.285643   \n",
       "\n",
       "         Day  \n",
       "0     Friday  \n",
       "1     Friday  \n",
       "2     Friday  \n",
       "3     Friday  \n",
       "4     Friday  \n",
       "...      ...  \n",
       "5412  Sunday  \n",
       "5413  Sunday  \n",
       "5414  Sunday  \n",
       "5415  Sunday  \n",
       "5416  Sunday  \n",
       "\n",
       "[5417 rows x 8 columns]"
      ]
     },
     "execution_count": 27,
     "metadata": {},
     "output_type": "execute_result"
    }
   ],
   "source": [
    "calls_final = (calls.pipe(combine_event_datetimes)\n",
    "               .pipe(split_lat_lon)\n",
    "               .pipe(match_weekday)\n",
    "               .pipe(drop_unneeded_cols))\n",
    "\n",
    "calls_final"
   ]
  },
  {
   "cell_type": "code",
   "execution_count": 28,
   "metadata": {
    "id": "fgbRE_cW-a3e"
   },
   "outputs": [],
   "source": [
    "calls_final.to_csv('calls_CLEANED.csv', index=False)"
   ]
  },
  {
   "cell_type": "markdown",
   "metadata": {
    "id": "GRpvAAO1-a3j"
   },
   "source": [
    "DateTime types in Python allow easy access to attributes relating to date and time. For instance, to extract the month from the datetime value:"
   ]
  },
  {
   "cell_type": "code",
   "execution_count": 29,
   "metadata": {
    "id": "2IOdWbte-a3k"
   },
   "outputs": [
    {
     "data": {
      "text/plain": [
       "0        9\n",
       "1        7\n",
       "2       10\n",
       "3        8\n",
       "4        8\n",
       "        ..\n",
       "5412     9\n",
       "5413     7\n",
       "5414     9\n",
       "5415     9\n",
       "5416     9\n",
       "Name: EVENTDTTM, Length: 5417, dtype: int64"
      ]
     },
     "execution_count": 29,
     "metadata": {},
     "output_type": "execute_result"
    }
   ],
   "source": [
    "calls_final['EVENTDTTM'].dt.month"
   ]
  },
  {
   "cell_type": "markdown",
   "metadata": {
    "id": "3DlKbMvt-a3o"
   },
   "source": [
    "Other datetime properties such as `year`, `day`, `min`, `max` can also be used.\n",
    "\n",
    "You can also sort the dataframe based on datetime, from oldest to newest."
   ]
  },
  {
   "cell_type": "code",
   "execution_count": 30,
   "metadata": {
    "id": "l-q7BQKP-a3p"
   },
   "outputs": [
    {
     "data": {
      "text/html": [
       "<div>\n",
       "<style scoped>\n",
       "    .dataframe tbody tr th:only-of-type {\n",
       "        vertical-align: middle;\n",
       "    }\n",
       "\n",
       "    .dataframe tbody tr th {\n",
       "        vertical-align: top;\n",
       "    }\n",
       "\n",
       "    .dataframe thead th {\n",
       "        text-align: right;\n",
       "    }\n",
       "</style>\n",
       "<table border=\"1\" class=\"dataframe\">\n",
       "  <thead>\n",
       "    <tr style=\"text-align: right;\">\n",
       "      <th></th>\n",
       "      <th>CASENO</th>\n",
       "      <th>OFFENSE</th>\n",
       "      <th>CVLEGEND</th>\n",
       "      <th>BLKADDR</th>\n",
       "      <th>EVENTDTTM</th>\n",
       "      <th>Latitude</th>\n",
       "      <th>Longitude</th>\n",
       "      <th>Day</th>\n",
       "    </tr>\n",
       "  </thead>\n",
       "  <tbody>\n",
       "    <tr>\n",
       "      <th>4781</th>\n",
       "      <td>19035002</td>\n",
       "      <td>FRAUD/FORGERY</td>\n",
       "      <td>FRAUD</td>\n",
       "      <td>1200 SPRUCE ST</td>\n",
       "      <td>2019-06-23 00:00:00</td>\n",
       "      <td>37.886086</td>\n",
       "      <td>-122.266573</td>\n",
       "      <td>Sunday</td>\n",
       "    </tr>\n",
       "    <tr>\n",
       "      <th>4897</th>\n",
       "      <td>19043154</td>\n",
       "      <td>THEFT FELONY (OVER $950)</td>\n",
       "      <td>LARCENY</td>\n",
       "      <td>2100 SHATTUCK AV</td>\n",
       "      <td>2019-06-23 00:00:00</td>\n",
       "      <td>37.871167</td>\n",
       "      <td>-122.268285</td>\n",
       "      <td>Sunday</td>\n",
       "    </tr>\n",
       "    <tr>\n",
       "      <th>5342</th>\n",
       "      <td>19034420</td>\n",
       "      <td>THEFT MISD. (UNDER $950)</td>\n",
       "      <td>LARCENY</td>\n",
       "      <td>2800 CALIFORNIA ST</td>\n",
       "      <td>2019-06-23 00:00:00</td>\n",
       "      <td>37.857216</td>\n",
       "      <td>-122.277614</td>\n",
       "      <td>Sunday</td>\n",
       "    </tr>\n",
       "    <tr>\n",
       "      <th>5010</th>\n",
       "      <td>19092570</td>\n",
       "      <td>THEFT FELONY (OVER $950)</td>\n",
       "      <td>LARCENY</td>\n",
       "      <td>2400 RIDGE RD</td>\n",
       "      <td>2019-06-23 01:00:00</td>\n",
       "      <td>37.875865</td>\n",
       "      <td>-122.261749</td>\n",
       "      <td>Sunday</td>\n",
       "    </tr>\n",
       "    <tr>\n",
       "      <th>5211</th>\n",
       "      <td>19034202</td>\n",
       "      <td>BURGLARY AUTO</td>\n",
       "      <td>BURGLARY - VEHICLE</td>\n",
       "      <td>2500 DURANT AV</td>\n",
       "      <td>2019-06-23 01:13:00</td>\n",
       "      <td>37.867852</td>\n",
       "      <td>-122.258699</td>\n",
       "      <td>Sunday</td>\n",
       "    </tr>\n",
       "    <tr>\n",
       "      <th>...</th>\n",
       "      <td>...</td>\n",
       "      <td>...</td>\n",
       "      <td>...</td>\n",
       "      <td>...</td>\n",
       "      <td>...</td>\n",
       "      <td>...</td>\n",
       "      <td>...</td>\n",
       "      <td>...</td>\n",
       "    </tr>\n",
       "    <tr>\n",
       "      <th>3203</th>\n",
       "      <td>19071637</td>\n",
       "      <td>DISTURBANCE</td>\n",
       "      <td>DISORDERLY CONDUCT</td>\n",
       "      <td>2200 SHATTUCK AV</td>\n",
       "      <td>2019-12-18 17:06:00</td>\n",
       "      <td>37.869363</td>\n",
       "      <td>-122.268028</td>\n",
       "      <td>Wednesday</td>\n",
       "    </tr>\n",
       "    <tr>\n",
       "      <th>3702</th>\n",
       "      <td>19092875</td>\n",
       "      <td>BURGLARY AUTO</td>\n",
       "      <td>BURGLARY - VEHICLE</td>\n",
       "      <td>1000 GILMAN ST</td>\n",
       "      <td>2019-12-18 18:30:00</td>\n",
       "      <td>37.88014</td>\n",
       "      <td>-122.297498</td>\n",
       "      <td>Wednesday</td>\n",
       "    </tr>\n",
       "    <tr>\n",
       "      <th>3244</th>\n",
       "      <td>19071652</td>\n",
       "      <td>BURGLARY AUTO</td>\n",
       "      <td>BURGLARY - VEHICLE</td>\n",
       "      <td>3000 TELEGRAPH AV</td>\n",
       "      <td>2019-12-18 19:05:00</td>\n",
       "      <td>37.855435</td>\n",
       "      <td>-122.259841</td>\n",
       "      <td>Wednesday</td>\n",
       "    </tr>\n",
       "    <tr>\n",
       "      <th>3528</th>\n",
       "      <td>19071651</td>\n",
       "      <td>BURGLARY AUTO</td>\n",
       "      <td>BURGLARY - VEHICLE</td>\n",
       "      <td>1800 UNIVERSITY AV</td>\n",
       "      <td>2019-12-18 19:10:00</td>\n",
       "      <td>37.871246</td>\n",
       "      <td>-122.274991</td>\n",
       "      <td>Wednesday</td>\n",
       "    </tr>\n",
       "    <tr>\n",
       "      <th>3487</th>\n",
       "      <td>19071685</td>\n",
       "      <td>THEFT FELONY (OVER $950)</td>\n",
       "      <td>LARCENY</td>\n",
       "      <td>1600 MARTIN LUTHER KING JR WY</td>\n",
       "      <td>2019-12-18 23:00:00</td>\n",
       "      <td>37.877696</td>\n",
       "      <td>-122.273684</td>\n",
       "      <td>Wednesday</td>\n",
       "    </tr>\n",
       "  </tbody>\n",
       "</table>\n",
       "<p>5417 rows × 8 columns</p>\n",
       "</div>"
      ],
      "text/plain": [
       "        CASENO                   OFFENSE            CVLEGEND  \\\n",
       "4781  19035002             FRAUD/FORGERY               FRAUD   \n",
       "4897  19043154  THEFT FELONY (OVER $950)             LARCENY   \n",
       "5342  19034420  THEFT MISD. (UNDER $950)             LARCENY   \n",
       "5010  19092570  THEFT FELONY (OVER $950)             LARCENY   \n",
       "5211  19034202             BURGLARY AUTO  BURGLARY - VEHICLE   \n",
       "...        ...                       ...                 ...   \n",
       "3203  19071637               DISTURBANCE  DISORDERLY CONDUCT   \n",
       "3702  19092875             BURGLARY AUTO  BURGLARY - VEHICLE   \n",
       "3244  19071652             BURGLARY AUTO  BURGLARY - VEHICLE   \n",
       "3528  19071651             BURGLARY AUTO  BURGLARY - VEHICLE   \n",
       "3487  19071685  THEFT FELONY (OVER $950)             LARCENY   \n",
       "\n",
       "                            BLKADDR           EVENTDTTM   Latitude  \\\n",
       "4781                 1200 SPRUCE ST 2019-06-23 00:00:00  37.886086   \n",
       "4897               2100 SHATTUCK AV 2019-06-23 00:00:00  37.871167   \n",
       "5342             2800 CALIFORNIA ST 2019-06-23 00:00:00  37.857216   \n",
       "5010                  2400 RIDGE RD 2019-06-23 01:00:00  37.875865   \n",
       "5211                 2500 DURANT AV 2019-06-23 01:13:00  37.867852   \n",
       "...                             ...                 ...        ...   \n",
       "3203               2200 SHATTUCK AV 2019-12-18 17:06:00  37.869363   \n",
       "3702                 1000 GILMAN ST 2019-12-18 18:30:00   37.88014   \n",
       "3244              3000 TELEGRAPH AV 2019-12-18 19:05:00  37.855435   \n",
       "3528             1800 UNIVERSITY AV 2019-12-18 19:10:00  37.871246   \n",
       "3487  1600 MARTIN LUTHER KING JR WY 2019-12-18 23:00:00  37.877696   \n",
       "\n",
       "        Longitude        Day  \n",
       "4781  -122.266573     Sunday  \n",
       "4897  -122.268285     Sunday  \n",
       "5342  -122.277614     Sunday  \n",
       "5010  -122.261749     Sunday  \n",
       "5211  -122.258699     Sunday  \n",
       "...           ...        ...  \n",
       "3203  -122.268028  Wednesday  \n",
       "3702  -122.297498  Wednesday  \n",
       "3244  -122.259841  Wednesday  \n",
       "3528  -122.274991  Wednesday  \n",
       "3487  -122.273684  Wednesday  \n",
       "\n",
       "[5417 rows x 8 columns]"
      ]
     },
     "execution_count": 30,
     "metadata": {},
     "output_type": "execute_result"
    }
   ],
   "source": [
    "calls_final.sort_values('EVENTDTTM')"
   ]
  },
  {
   "cell_type": "markdown",
   "metadata": {
    "id": "k-DXnFzY-a3x"
   },
   "source": [
    "**AE1**: Plot bar chart to represent the frequency for each offense reported to the police. Based on the bar chart, which is the most frequently occuring offense reported to the police? \n"
   ]
  },
  {
   "cell_type": "code",
   "execution_count": 31,
   "metadata": {
    "id": "PIz0Y2IK-a3y"
   },
   "outputs": [
    {
     "data": {
      "image/png": "[encoded data removed]",
      "text/plain": [
       "<Figure size 1200x600 with 1 Axes>"
      ]
     },
     "metadata": {},
     "output_type": "display_data"
    }
   ],
   "source": [
    "# write your code here\n",
    "\n",
    "# answer: burglary vehicle\n",
    "import matplotlib.pyplot as plt\n",
    "import seaborn as sns\n",
    "\n",
    "# Assuming calls_final is your DataFrame\n",
    "plt.figure(figsize=(12, 6))\n",
    "sns.countplot(x='OFFENSE', data=calls_final, order=calls_final['OFFENSE'].value_counts().index)\n",
    "plt.title('Frequency of Each Offense Reported to the Police')\n",
    "plt.xlabel('Offense Type')\n",
    "plt.ylabel('Frequency')\n",
    "plt.xticks(rotation=45, ha='right')  # Rotate x-axis labels for better visibility\n",
    "plt.show()\n"
   ]
  },
  {
   "cell_type": "markdown",
   "metadata": {
    "id": "aiUnjdP0-a51"
   },
   "source": [
    "<a id=\"sectionIII\"></a>\n",
    "## II. Exploring JSON data\n",
    "\n",
    "So far we have been reading from relatively convenient structured formats like CSV. If we encounter semi-structured kind of data like JSON or XML, how can we read them? Fortunately, Python comes with a JSON library package that can help us load JSON files.\n",
    "\n",
    "In this section, we will be using [Stops data](https://data.cityofberkeley.info/Public-Safety/Berkeley-PD-Stop-Data/6e9j-pj9p) from Berkeley Police Department which is also made publicly available since 2015. This data records all vehicle detentions (including bicycles) and pedestrian detentions (up to 5 persons) made by the police in a number of categories. The incident number, date and time, location and disposition codes are also provided. "
   ]
  },
  {
   "cell_type": "code",
   "execution_count": 34,
   "metadata": {
    "id": "oIms3HPh-a52"
   },
   "outputs": [
    {
     "ename": "FileNotFoundError",
     "evalue": "[Errno 2] No such file or directory: '/full/path/to/your/stops.json'",
     "output_type": "error",
     "traceback": [
      "\u001b[1;31m---------------------------------------------------------------------------\u001b[0m",
      "\u001b[1;31mFileNotFoundError\u001b[0m                         Traceback (most recent call last)",
      "\u001b[1;32m~\\AppData\\Local\\Temp\\ipykernel_34380\\1984984787.py\u001b[0m in \u001b[0;36m<module>\u001b[1;34m\u001b[0m\n\u001b[0;32m      2\u001b[0m \u001b[0mfile_path\u001b[0m \u001b[1;33m=\u001b[0m \u001b[1;34m'/full/path/to/your/stops.json'\u001b[0m\u001b[1;33m\u001b[0m\u001b[1;33m\u001b[0m\u001b[0m\n\u001b[0;32m      3\u001b[0m \u001b[1;33m\u001b[0m\u001b[0m\n\u001b[1;32m----> 4\u001b[1;33m \u001b[1;32mwith\u001b[0m \u001b[0mopen\u001b[0m\u001b[1;33m(\u001b[0m\u001b[0mfile_path\u001b[0m\u001b[1;33m)\u001b[0m \u001b[1;32mas\u001b[0m \u001b[0mf\u001b[0m\u001b[1;33m:\u001b[0m\u001b[1;33m\u001b[0m\u001b[1;33m\u001b[0m\u001b[0m\n\u001b[0m\u001b[0;32m      5\u001b[0m     \u001b[0mstops_dict\u001b[0m \u001b[1;33m=\u001b[0m \u001b[0mjson\u001b[0m\u001b[1;33m.\u001b[0m\u001b[0mload\u001b[0m\u001b[1;33m(\u001b[0m\u001b[0mf\u001b[0m\u001b[1;33m)\u001b[0m\u001b[1;33m\u001b[0m\u001b[1;33m\u001b[0m\u001b[0m\n",
      "\u001b[1;31mFileNotFoundError\u001b[0m: [Errno 2] No such file or directory: '/full/path/to/your/stops.json'"
     ]
    }
   ],
   "source": [
    "import json\n",
    "file_path = '/full/path/to/your/stops.json'\n",
    "\n",
    "with open(file_path) as f:\n",
    "    stops_dict = json.load(f)\n"
   ]
  },
  {
   "cell_type": "code",
   "execution_count": 33,
   "metadata": {
    "id": "UTI2q9v3-a59",
    "scrolled": true
   },
   "outputs": [
    {
     "ename": "FileNotFoundError",
     "evalue": "[Errno 2] No such file or directory: 'stops.json'",
     "output_type": "error",
     "traceback": [
      "\u001b[1;31m---------------------------------------------------------------------------\u001b[0m",
      "\u001b[1;31mFileNotFoundError\u001b[0m                         Traceback (most recent call last)",
      "\u001b[1;32m~\\AppData\\Local\\Temp\\ipykernel_34380\\3631090732.py\u001b[0m in \u001b[0;36m<module>\u001b[1;34m\u001b[0m\n\u001b[0;32m      2\u001b[0m \u001b[1;31m# is large. In this case, we've verified that the file is small enough to\u001b[0m\u001b[1;33m\u001b[0m\u001b[1;33m\u001b[0m\u001b[0m\n\u001b[0;32m      3\u001b[0m \u001b[1;31m# read in beforehand.\u001b[0m\u001b[1;33m\u001b[0m\u001b[1;33m\u001b[0m\u001b[0m\n\u001b[1;32m----> 4\u001b[1;33m \u001b[1;32mwith\u001b[0m \u001b[0mopen\u001b[0m\u001b[1;33m(\u001b[0m\u001b[1;34m'stops.json'\u001b[0m\u001b[1;33m)\u001b[0m \u001b[1;32mas\u001b[0m \u001b[0mf\u001b[0m\u001b[1;33m:\u001b[0m\u001b[1;33m\u001b[0m\u001b[1;33m\u001b[0m\u001b[0m\n\u001b[0m\u001b[0;32m      5\u001b[0m     \u001b[0mstops_dict\u001b[0m \u001b[1;33m=\u001b[0m \u001b[0mjson\u001b[0m\u001b[1;33m.\u001b[0m\u001b[0mload\u001b[0m\u001b[1;33m(\u001b[0m\u001b[0mf\u001b[0m\u001b[1;33m)\u001b[0m\u001b[1;33m\u001b[0m\u001b[1;33m\u001b[0m\u001b[0m\n\u001b[0;32m      6\u001b[0m \u001b[1;33m\u001b[0m\u001b[0m\n",
      "\u001b[1;31mFileNotFoundError\u001b[0m: [Errno 2] No such file or directory: 'stops.json'"
     ]
    }
   ],
   "source": [
    "# Note that this could cause our computer to run out of memory if the file\n",
    "# is large. In this case, we've verified that the file is small enough to\n",
    "# read in beforehand.\n",
    "with open('stops.json') as f:\n",
    "    stops_dict = json.load(f)\n",
    "\n",
    "stops_dict.keys()"
   ]
  },
  {
   "cell_type": "markdown",
   "metadata": {
    "id": "KaWoAgmv-a6L"
   },
   "source": [
    "Dictionaries. Access the keys to see the values."
   ]
  },
  {
   "cell_type": "code",
   "execution_count": null,
   "metadata": {
    "id": "7EGAzSDQ-a6M"
   },
   "outputs": [],
   "source": [
    "stops_dict['meta']"
   ]
  },
  {
   "cell_type": "markdown",
   "metadata": {
    "id": "e88BfnXn-a6U"
   },
   "source": [
    "Let's try make some sense of the data..."
   ]
  },
  {
   "cell_type": "code",
   "execution_count": null,
   "metadata": {
    "id": "l60jAQd9-a6V"
   },
   "outputs": [],
   "source": [
    "stops_dict['data']   "
   ]
  },
  {
   "cell_type": "markdown",
   "metadata": {
    "id": "5fH3SvKt-a6Z"
   },
   "source": [
    "Where can we find information on these columns? The `meta` portion of the data seems to give some indication of what columns are contained in the data. If you are able to understand the hierarchy of dictionaries that is normally encoded in a JSON file (every file is different, do not assume that all JSON files have 'meta' and 'data'!), then you will be able to figure out how to traverse it quickly. If not, we can slowly explore it, this way: "
   ]
  },
  {
   "cell_type": "code",
   "execution_count": null,
   "metadata": {
    "id": "Mki1ZdtS-a6b"
   },
   "outputs": [],
   "source": [
    "stops_dict['meta'].keys()"
   ]
  },
  {
   "cell_type": "code",
   "execution_count": null,
   "metadata": {
    "id": "DLnpjm0G-a6i"
   },
   "outputs": [],
   "source": [
    "stops_dict['meta']['view']"
   ]
  },
  {
   "cell_type": "code",
   "execution_count": null,
   "metadata": {
    "id": "5Cq2oo4v-a6s"
   },
   "outputs": [],
   "source": [
    "stops_dict['meta']['view'].keys()"
   ]
  },
  {
   "cell_type": "code",
   "execution_count": null,
   "metadata": {
    "id": "tWAwCSA4LbbD"
   },
   "outputs": [],
   "source": [
    "print(stops_dict['meta']['view']['description'])"
   ]
  },
  {
   "cell_type": "code",
   "execution_count": null,
   "metadata": {
    "id": "RjRg2uTc-a6z",
    "scrolled": false
   },
   "outputs": [],
   "source": [
    "stops_dict['meta']['view']['columns']"
   ]
  },
  {
   "cell_type": "markdown",
   "metadata": {
    "id": "Oec6FHXf-a64"
   },
   "source": [
    "We now have a list of records under `columns`. These are likely the column information. "
   ]
  },
  {
   "cell_type": "code",
   "execution_count": null,
   "metadata": {
    "id": "WfwF8dqW-a65"
   },
   "outputs": [],
   "source": [
    "stops_dict['meta']['view']['columns'][0]"
   ]
  },
  {
   "cell_type": "code",
   "execution_count": null,
   "metadata": {
    "id": "EB-7krRQ-a6_",
    "scrolled": true
   },
   "outputs": [],
   "source": [
    "stops_dict['meta']['view']['columns'][1]"
   ]
  },
  {
   "cell_type": "markdown",
   "metadata": {
    "id": "lo7gJ76T-a7D"
   },
   "source": [
    "The `name` attribute looks like something we need as the column names. The first one has name `sid`, the second one has name `id`. With these column information, and their corresponding data information from the top-most parent key `data`, we can create a dataframe:"
   ]
  },
  {
   "cell_type": "code",
   "execution_count": null,
   "metadata": {
    "id": "fR2tOOiq-a7E"
   },
   "outputs": [],
   "source": [
    "stops = pd.DataFrame(\n",
    "    stops_dict['data'],\n",
    "    columns=[c['name'] for c in stops_dict['meta']['view']['columns']])\n",
    "\n",
    "stops"
   ]
  },
  {
   "cell_type": "code",
   "execution_count": null,
   "metadata": {
    "id": "fJA5bAtR-a7I",
    "scrolled": true
   },
   "outputs": [],
   "source": [
    "# check!\n",
    "stops.columns"
   ]
  },
  {
   "cell_type": "markdown",
   "metadata": {
    "id": "X68TYI36-a7M"
   },
   "source": [
    "The [website](https://data.cityofberkeley.info/Public-Safety/Berkeley-PD-Stop-Data/6e9j-pj9p) contains more information about the columns."
   ]
  }
 ],
 "metadata": {
  "colab": {
   "collapsed_sections": [],
   "name": "Lab05.ipynb",
   "provenance": []
  },
  "kernelspec": {
   "display_name": "Python 3 (ipykernel)",
   "language": "python",
   "name": "python3"
  },
  "language_info": {
   "codemirror_mode": {
    "name": "ipython",
    "version": 3
   },
   "file_extension": ".py",
   "mimetype": "text/x-python",
   "name": "python",
   "nbconvert_exporter": "python",
   "pygments_lexer": "ipython3",
   "version": "3.9.13"
  }
 },
 "nbformat": 4,
 "nbformat_minor": 1
}
